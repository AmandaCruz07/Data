{
  "nbformat": 4,
  "nbformat_minor": 0,
  "metadata": {
    "colab": {
      "provenance": [],
      "include_colab_link": true
    },
    "kernelspec": {
      "name": "python3",
      "display_name": "Python 3"
    },
    "language_info": {
      "name": "python"
    }
  },
  "cells": [
    {
      "cell_type": "markdown",
      "metadata": {
        "id": "view-in-github",
        "colab_type": "text"
      },
      "source": [
        "<a href=\"https://colab.research.google.com/github/AmandaCruz07/Data/blob/main/Assignment2_notebook_Group7.ipynb\" target=\"_parent\"><img src=\"https://colab.research.google.com/assets/colab-badge.svg\" alt=\"Open In Colab\"/></a>"
      ]
    },
    {
      "cell_type": "markdown",
      "source": [
        "#Group 7: Daniel Johnson, Amanda Cruz, Brian Reyes, Peter Ekunwe"
      ],
      "metadata": {
        "id": "1DQSAAsz9CEC"
      }
    },
    {
      "cell_type": "markdown",
      "source": [
        "Sources: Chatgpt with the following prompts\n",
        "\n",
        "\n",
        "“How to handle categorical columns in a data set when performing classification”\n",
        "\n",
        "“How do I evaluate the effectiveness of my classification?”\n",
        "\n",
        "“How do I determine the balance of my target column?”\n",
        "\n",
        "“How do I rebalance my column if it is unbalanced?”\n",
        "\n",
        "“How do I use a preprocessing pipeline?”\n",
        "\n",
        "“Add a visualisation to the ROC curve”\n"
      ],
      "metadata": {
        "id": "jmcaqympAkeE"
      }
    },
    {
      "cell_type": "markdown",
      "source": [
        "#Import Libraries"
      ],
      "metadata": {
        "id": "ftgJ3GGCR86V"
      }
    },
    {
      "cell_type": "code",
      "source": [
        "import numpy as np\n",
        "import pandas as pd\n",
        "import seaborn as sns\n",
        "\n",
        "import matplotlib.pyplot as plt\n",
        "\n",
        "%matplotlib inline\n",
        "\n",
        "from sklearn import (datasets,\n",
        "                     metrics,\n",
        "                     model_selection as skms,\n",
        "                     linear_model,\n",
        "                     naive_bayes,\n",
        "                     neighbors)\n",
        "import warnings\n",
        "warnings.filterwarnings('ignore')\n",
        "np.random.seed(42)\n",
        "\n",
        "from sklearn.model_selection import train_test_split\n",
        "from sklearn.preprocessing import StandardScaler, OneHotEncoder\n",
        "from sklearn.linear_model import LogisticRegression\n",
        "from sklearn import metrics\n",
        "from sklearn.compose import ColumnTransformer\n",
        "from sklearn.impute import SimpleImputer\n",
        "from sklearn.pipeline import Pipeline\n",
        "from sklearn.tree import DecisionTreeClassifier\n",
        "from sklearn.metrics import classification_report, confusion_matrix, accuracy_score\n",
        "from sklearn.metrics import roc_curve\n",
        "from sklearn.utils.class_weight import compute_class_weight\n",
        "from sklearn.ensemble import RandomForestClassifier\n",
        "from sklearn.metrics import roc_auc_score\n",
        "from scipy.stats import zscore\n"
      ],
      "metadata": {
        "id": "RlrwcvfkzBEI"
      },
      "execution_count": null,
      "outputs": []
    },
    {
      "cell_type": "markdown",
      "source": [
        "#Load/ View Data"
      ],
      "metadata": {
        "id": "YUpiMTR6SBBU"
      }
    },
    {
      "cell_type": "code",
      "source": [
        "file_id = '1BcXkjYxrCgEg74FyfTWylp8WkRr-6D40'\n",
        "url = f'https://drive.google.com/uc?id={file_id}'\n",
        "df = pd.read_csv(url)\n",
        "df.info()\n",
        "df.describe()"
      ],
      "metadata": {
        "colab": {
          "base_uri": "https://localhost:8080/",
          "height": 630
        },
        "id": "MNos8Uiqy9Z0",
        "outputId": "5fb9f9b7-afae-4210-cf6d-5731ed1b6ba1"
      },
      "execution_count": null,
      "outputs": [
        {
          "output_type": "stream",
          "name": "stdout",
          "text": [
            "<class 'pandas.core.frame.DataFrame'>\n",
            "RangeIndex: 31929 entries, 0 to 31928\n",
            "Data columns (total 12 columns):\n",
            " #   Column                      Non-Null Count  Dtype  \n",
            "---  ------                      --------------  -----  \n",
            " 0   person_age                  31929 non-null  int64  \n",
            " 1   person_income               31929 non-null  int64  \n",
            " 2   person_home_ownership       31929 non-null  object \n",
            " 3   person_emp_length           31057 non-null  float64\n",
            " 4   loan_intent                 31929 non-null  object \n",
            " 5   loan_grade                  31929 non-null  object \n",
            " 6   loan_amnt                   31929 non-null  int64  \n",
            " 7   loan_int_rate               28884 non-null  float64\n",
            " 8   loan_status                 31929 non-null  int64  \n",
            " 9   loan_percent_income         31929 non-null  float64\n",
            " 10  cb_person_default_on_file   31929 non-null  object \n",
            " 11  cb_person_cred_hist_length  31929 non-null  int64  \n",
            "dtypes: float64(3), int64(5), object(4)\n",
            "memory usage: 2.9+ MB\n"
          ]
        },
        {
          "output_type": "execute_result",
          "data": {
            "text/plain": [
              "         person_age  person_income  person_emp_length     loan_amnt  \\\n",
              "count  31929.000000   3.192900e+04       31057.000000  31929.000000   \n",
              "mean      27.734881   6.611913e+04           4.781724   9588.035955   \n",
              "std        6.351938   6.227983e+04           4.137051   6321.418083   \n",
              "min       20.000000   4.000000e+03           0.000000    500.000000   \n",
              "25%       23.000000   3.850000e+04           2.000000   5000.000000   \n",
              "50%       26.000000   5.500000e+04           4.000000   8000.000000   \n",
              "75%       30.000000   7.950000e+04           7.000000  12200.000000   \n",
              "max      144.000000   6.000000e+06         123.000000  35000.000000   \n",
              "\n",
              "       loan_int_rate   loan_status  loan_percent_income  \\\n",
              "count   28884.000000  31929.000000         31929.000000   \n",
              "mean       11.009620      0.218046             0.170161   \n",
              "std         3.238403      0.412925             0.106919   \n",
              "min         5.420000      0.000000             0.000000   \n",
              "25%         7.900000      0.000000             0.090000   \n",
              "50%        10.990000      0.000000             0.150000   \n",
              "75%        13.470000      0.000000             0.230000   \n",
              "max        23.220000      1.000000             0.830000   \n",
              "\n",
              "       cb_person_cred_hist_length  \n",
              "count                31929.000000  \n",
              "mean                     5.804817  \n",
              "std                      4.054980  \n",
              "min                      2.000000  \n",
              "25%                      3.000000  \n",
              "50%                      4.000000  \n",
              "75%                      8.000000  \n",
              "max                     30.000000  "
            ],
            "text/html": [
              "\n",
              "  <div id=\"df-87ad8e0e-6e18-48fe-bf26-061efb2b6e42\" class=\"colab-df-container\">\n",
              "    <div>\n",
              "<style scoped>\n",
              "    .dataframe tbody tr th:only-of-type {\n",
              "        vertical-align: middle;\n",
              "    }\n",
              "\n",
              "    .dataframe tbody tr th {\n",
              "        vertical-align: top;\n",
              "    }\n",
              "\n",
              "    .dataframe thead th {\n",
              "        text-align: right;\n",
              "    }\n",
              "</style>\n",
              "<table border=\"1\" class=\"dataframe\">\n",
              "  <thead>\n",
              "    <tr style=\"text-align: right;\">\n",
              "      <th></th>\n",
              "      <th>person_age</th>\n",
              "      <th>person_income</th>\n",
              "      <th>person_emp_length</th>\n",
              "      <th>loan_amnt</th>\n",
              "      <th>loan_int_rate</th>\n",
              "      <th>loan_status</th>\n",
              "      <th>loan_percent_income</th>\n",
              "      <th>cb_person_cred_hist_length</th>\n",
              "    </tr>\n",
              "  </thead>\n",
              "  <tbody>\n",
              "    <tr>\n",
              "      <th>count</th>\n",
              "      <td>31929.000000</td>\n",
              "      <td>3.192900e+04</td>\n",
              "      <td>31057.000000</td>\n",
              "      <td>31929.000000</td>\n",
              "      <td>28884.000000</td>\n",
              "      <td>31929.000000</td>\n",
              "      <td>31929.000000</td>\n",
              "      <td>31929.000000</td>\n",
              "    </tr>\n",
              "    <tr>\n",
              "      <th>mean</th>\n",
              "      <td>27.734881</td>\n",
              "      <td>6.611913e+04</td>\n",
              "      <td>4.781724</td>\n",
              "      <td>9588.035955</td>\n",
              "      <td>11.009620</td>\n",
              "      <td>0.218046</td>\n",
              "      <td>0.170161</td>\n",
              "      <td>5.804817</td>\n",
              "    </tr>\n",
              "    <tr>\n",
              "      <th>std</th>\n",
              "      <td>6.351938</td>\n",
              "      <td>6.227983e+04</td>\n",
              "      <td>4.137051</td>\n",
              "      <td>6321.418083</td>\n",
              "      <td>3.238403</td>\n",
              "      <td>0.412925</td>\n",
              "      <td>0.106919</td>\n",
              "      <td>4.054980</td>\n",
              "    </tr>\n",
              "    <tr>\n",
              "      <th>min</th>\n",
              "      <td>20.000000</td>\n",
              "      <td>4.000000e+03</td>\n",
              "      <td>0.000000</td>\n",
              "      <td>500.000000</td>\n",
              "      <td>5.420000</td>\n",
              "      <td>0.000000</td>\n",
              "      <td>0.000000</td>\n",
              "      <td>2.000000</td>\n",
              "    </tr>\n",
              "    <tr>\n",
              "      <th>25%</th>\n",
              "      <td>23.000000</td>\n",
              "      <td>3.850000e+04</td>\n",
              "      <td>2.000000</td>\n",
              "      <td>5000.000000</td>\n",
              "      <td>7.900000</td>\n",
              "      <td>0.000000</td>\n",
              "      <td>0.090000</td>\n",
              "      <td>3.000000</td>\n",
              "    </tr>\n",
              "    <tr>\n",
              "      <th>50%</th>\n",
              "      <td>26.000000</td>\n",
              "      <td>5.500000e+04</td>\n",
              "      <td>4.000000</td>\n",
              "      <td>8000.000000</td>\n",
              "      <td>10.990000</td>\n",
              "      <td>0.000000</td>\n",
              "      <td>0.150000</td>\n",
              "      <td>4.000000</td>\n",
              "    </tr>\n",
              "    <tr>\n",
              "      <th>75%</th>\n",
              "      <td>30.000000</td>\n",
              "      <td>7.950000e+04</td>\n",
              "      <td>7.000000</td>\n",
              "      <td>12200.000000</td>\n",
              "      <td>13.470000</td>\n",
              "      <td>0.000000</td>\n",
              "      <td>0.230000</td>\n",
              "      <td>8.000000</td>\n",
              "    </tr>\n",
              "    <tr>\n",
              "      <th>max</th>\n",
              "      <td>144.000000</td>\n",
              "      <td>6.000000e+06</td>\n",
              "      <td>123.000000</td>\n",
              "      <td>35000.000000</td>\n",
              "      <td>23.220000</td>\n",
              "      <td>1.000000</td>\n",
              "      <td>0.830000</td>\n",
              "      <td>30.000000</td>\n",
              "    </tr>\n",
              "  </tbody>\n",
              "</table>\n",
              "</div>\n",
              "    <div class=\"colab-df-buttons\">\n",
              "\n",
              "  <div class=\"colab-df-container\">\n",
              "    <button class=\"colab-df-convert\" onclick=\"convertToInteractive('df-87ad8e0e-6e18-48fe-bf26-061efb2b6e42')\"\n",
              "            title=\"Convert this dataframe to an interactive table.\"\n",
              "            style=\"display:none;\">\n",
              "\n",
              "  <svg xmlns=\"http://www.w3.org/2000/svg\" height=\"24px\" viewBox=\"0 -960 960 960\">\n",
              "    <path d=\"M120-120v-720h720v720H120Zm60-500h600v-160H180v160Zm220 220h160v-160H400v160Zm0 220h160v-160H400v160ZM180-400h160v-160H180v160Zm440 0h160v-160H620v160ZM180-180h160v-160H180v160Zm440 0h160v-160H620v160Z\"/>\n",
              "  </svg>\n",
              "    </button>\n",
              "\n",
              "  <style>\n",
              "    .colab-df-container {\n",
              "      display:flex;\n",
              "      gap: 12px;\n",
              "    }\n",
              "\n",
              "    .colab-df-convert {\n",
              "      background-color: #E8F0FE;\n",
              "      border: none;\n",
              "      border-radius: 50%;\n",
              "      cursor: pointer;\n",
              "      display: none;\n",
              "      fill: #1967D2;\n",
              "      height: 32px;\n",
              "      padding: 0 0 0 0;\n",
              "      width: 32px;\n",
              "    }\n",
              "\n",
              "    .colab-df-convert:hover {\n",
              "      background-color: #E2EBFA;\n",
              "      box-shadow: 0px 1px 2px rgba(60, 64, 67, 0.3), 0px 1px 3px 1px rgba(60, 64, 67, 0.15);\n",
              "      fill: #174EA6;\n",
              "    }\n",
              "\n",
              "    .colab-df-buttons div {\n",
              "      margin-bottom: 4px;\n",
              "    }\n",
              "\n",
              "    [theme=dark] .colab-df-convert {\n",
              "      background-color: #3B4455;\n",
              "      fill: #D2E3FC;\n",
              "    }\n",
              "\n",
              "    [theme=dark] .colab-df-convert:hover {\n",
              "      background-color: #434B5C;\n",
              "      box-shadow: 0px 1px 3px 1px rgba(0, 0, 0, 0.15);\n",
              "      filter: drop-shadow(0px 1px 2px rgba(0, 0, 0, 0.3));\n",
              "      fill: #FFFFFF;\n",
              "    }\n",
              "  </style>\n",
              "\n",
              "    <script>\n",
              "      const buttonEl =\n",
              "        document.querySelector('#df-87ad8e0e-6e18-48fe-bf26-061efb2b6e42 button.colab-df-convert');\n",
              "      buttonEl.style.display =\n",
              "        google.colab.kernel.accessAllowed ? 'block' : 'none';\n",
              "\n",
              "      async function convertToInteractive(key) {\n",
              "        const element = document.querySelector('#df-87ad8e0e-6e18-48fe-bf26-061efb2b6e42');\n",
              "        const dataTable =\n",
              "          await google.colab.kernel.invokeFunction('convertToInteractive',\n",
              "                                                    [key], {});\n",
              "        if (!dataTable) return;\n",
              "\n",
              "        const docLinkHtml = 'Like what you see? Visit the ' +\n",
              "          '<a target=\"_blank\" href=https://colab.research.google.com/notebooks/data_table.ipynb>data table notebook</a>'\n",
              "          + ' to learn more about interactive tables.';\n",
              "        element.innerHTML = '';\n",
              "        dataTable['output_type'] = 'display_data';\n",
              "        await google.colab.output.renderOutput(dataTable, element);\n",
              "        const docLink = document.createElement('div');\n",
              "        docLink.innerHTML = docLinkHtml;\n",
              "        element.appendChild(docLink);\n",
              "      }\n",
              "    </script>\n",
              "  </div>\n",
              "\n",
              "\n",
              "<div id=\"df-2a22b1b0-1b87-4e2d-8a93-899e9dca7896\">\n",
              "  <button class=\"colab-df-quickchart\" onclick=\"quickchart('df-2a22b1b0-1b87-4e2d-8a93-899e9dca7896')\"\n",
              "            title=\"Suggest charts\"\n",
              "            style=\"display:none;\">\n",
              "\n",
              "<svg xmlns=\"http://www.w3.org/2000/svg\" height=\"24px\"viewBox=\"0 0 24 24\"\n",
              "     width=\"24px\">\n",
              "    <g>\n",
              "        <path d=\"M19 3H5c-1.1 0-2 .9-2 2v14c0 1.1.9 2 2 2h14c1.1 0 2-.9 2-2V5c0-1.1-.9-2-2-2zM9 17H7v-7h2v7zm4 0h-2V7h2v10zm4 0h-2v-4h2v4z\"/>\n",
              "    </g>\n",
              "</svg>\n",
              "  </button>\n",
              "\n",
              "<style>\n",
              "  .colab-df-quickchart {\n",
              "      --bg-color: #E8F0FE;\n",
              "      --fill-color: #1967D2;\n",
              "      --hover-bg-color: #E2EBFA;\n",
              "      --hover-fill-color: #174EA6;\n",
              "      --disabled-fill-color: #AAA;\n",
              "      --disabled-bg-color: #DDD;\n",
              "  }\n",
              "\n",
              "  [theme=dark] .colab-df-quickchart {\n",
              "      --bg-color: #3B4455;\n",
              "      --fill-color: #D2E3FC;\n",
              "      --hover-bg-color: #434B5C;\n",
              "      --hover-fill-color: #FFFFFF;\n",
              "      --disabled-bg-color: #3B4455;\n",
              "      --disabled-fill-color: #666;\n",
              "  }\n",
              "\n",
              "  .colab-df-quickchart {\n",
              "    background-color: var(--bg-color);\n",
              "    border: none;\n",
              "    border-radius: 50%;\n",
              "    cursor: pointer;\n",
              "    display: none;\n",
              "    fill: var(--fill-color);\n",
              "    height: 32px;\n",
              "    padding: 0;\n",
              "    width: 32px;\n",
              "  }\n",
              "\n",
              "  .colab-df-quickchart:hover {\n",
              "    background-color: var(--hover-bg-color);\n",
              "    box-shadow: 0 1px 2px rgba(60, 64, 67, 0.3), 0 1px 3px 1px rgba(60, 64, 67, 0.15);\n",
              "    fill: var(--button-hover-fill-color);\n",
              "  }\n",
              "\n",
              "  .colab-df-quickchart-complete:disabled,\n",
              "  .colab-df-quickchart-complete:disabled:hover {\n",
              "    background-color: var(--disabled-bg-color);\n",
              "    fill: var(--disabled-fill-color);\n",
              "    box-shadow: none;\n",
              "  }\n",
              "\n",
              "  .colab-df-spinner {\n",
              "    border: 2px solid var(--fill-color);\n",
              "    border-color: transparent;\n",
              "    border-bottom-color: var(--fill-color);\n",
              "    animation:\n",
              "      spin 1s steps(1) infinite;\n",
              "  }\n",
              "\n",
              "  @keyframes spin {\n",
              "    0% {\n",
              "      border-color: transparent;\n",
              "      border-bottom-color: var(--fill-color);\n",
              "      border-left-color: var(--fill-color);\n",
              "    }\n",
              "    20% {\n",
              "      border-color: transparent;\n",
              "      border-left-color: var(--fill-color);\n",
              "      border-top-color: var(--fill-color);\n",
              "    }\n",
              "    30% {\n",
              "      border-color: transparent;\n",
              "      border-left-color: var(--fill-color);\n",
              "      border-top-color: var(--fill-color);\n",
              "      border-right-color: var(--fill-color);\n",
              "    }\n",
              "    40% {\n",
              "      border-color: transparent;\n",
              "      border-right-color: var(--fill-color);\n",
              "      border-top-color: var(--fill-color);\n",
              "    }\n",
              "    60% {\n",
              "      border-color: transparent;\n",
              "      border-right-color: var(--fill-color);\n",
              "    }\n",
              "    80% {\n",
              "      border-color: transparent;\n",
              "      border-right-color: var(--fill-color);\n",
              "      border-bottom-color: var(--fill-color);\n",
              "    }\n",
              "    90% {\n",
              "      border-color: transparent;\n",
              "      border-bottom-color: var(--fill-color);\n",
              "    }\n",
              "  }\n",
              "</style>\n",
              "\n",
              "  <script>\n",
              "    async function quickchart(key) {\n",
              "      const quickchartButtonEl =\n",
              "        document.querySelector('#' + key + ' button');\n",
              "      quickchartButtonEl.disabled = true;  // To prevent multiple clicks.\n",
              "      quickchartButtonEl.classList.add('colab-df-spinner');\n",
              "      try {\n",
              "        const charts = await google.colab.kernel.invokeFunction(\n",
              "            'suggestCharts', [key], {});\n",
              "      } catch (error) {\n",
              "        console.error('Error during call to suggestCharts:', error);\n",
              "      }\n",
              "      quickchartButtonEl.classList.remove('colab-df-spinner');\n",
              "      quickchartButtonEl.classList.add('colab-df-quickchart-complete');\n",
              "    }\n",
              "    (() => {\n",
              "      let quickchartButtonEl =\n",
              "        document.querySelector('#df-2a22b1b0-1b87-4e2d-8a93-899e9dca7896 button');\n",
              "      quickchartButtonEl.style.display =\n",
              "        google.colab.kernel.accessAllowed ? 'block' : 'none';\n",
              "    })();\n",
              "  </script>\n",
              "</div>\n",
              "\n",
              "    </div>\n",
              "  </div>\n"
            ],
            "application/vnd.google.colaboratory.intrinsic+json": {
              "type": "dataframe",
              "summary": "{\n  \"name\": \"df\",\n  \"rows\": 8,\n  \"fields\": [\n    {\n      \"column\": \"person_age\",\n      \"properties\": {\n        \"dtype\": \"number\",\n        \"std\": 11274.69409182632,\n        \"min\": 6.3519380802737455,\n        \"max\": 31929.0,\n        \"num_unique_values\": 8,\n        \"samples\": [\n          27.734880516145196,\n          26.0,\n          31929.0\n        ],\n        \"semantic_type\": \"\",\n        \"description\": \"\"\n      }\n    },\n    {\n      \"column\": \"person_income\",\n      \"properties\": {\n        \"dtype\": \"number\",\n        \"std\": 2104413.6530971285,\n        \"min\": 4000.0,\n        \"max\": 6000000.0,\n        \"num_unique_values\": 8,\n        \"samples\": [\n          66119.13298255505,\n          55000.0,\n          31929.0\n        ],\n        \"semantic_type\": \"\",\n        \"description\": \"\"\n      }\n    },\n    {\n      \"column\": \"person_emp_length\",\n      \"properties\": {\n        \"dtype\": \"number\",\n        \"std\": 10973.067809592376,\n        \"min\": 0.0,\n        \"max\": 31057.0,\n        \"num_unique_values\": 8,\n        \"samples\": [\n          4.781723926972985,\n          4.0,\n          31057.0\n        ],\n        \"semantic_type\": \"\",\n        \"description\": \"\"\n      }\n    },\n    {\n      \"column\": \"loan_amnt\",\n      \"properties\": {\n        \"dtype\": \"number\",\n        \"std\": 12771.996713959188,\n        \"min\": 500.0,\n        \"max\": 35000.0,\n        \"num_unique_values\": 8,\n        \"samples\": [\n          9588.035954774656,\n          8000.0,\n          31929.0\n        ],\n        \"semantic_type\": \"\",\n        \"description\": \"\"\n      }\n    },\n    {\n      \"column\": \"loan_int_rate\",\n      \"properties\": {\n        \"dtype\": \"number\",\n        \"std\": 10208.237325930593,\n        \"min\": 3.2384031305453527,\n        \"max\": 28884.0,\n        \"num_unique_values\": 8,\n        \"samples\": [\n          11.009619858745326,\n          10.99,\n          28884.0\n        ],\n        \"semantic_type\": \"\",\n        \"description\": \"\"\n      }\n    },\n    {\n      \"column\": \"loan_status\",\n      \"properties\": {\n        \"dtype\": \"number\",\n        \"std\": 11288.523837041575,\n        \"min\": 0.0,\n        \"max\": 31929.0,\n        \"num_unique_values\": 5,\n        \"samples\": [\n          0.21804629020639543,\n          1.0,\n          0.41292547237956373\n        ],\n        \"semantic_type\": \"\",\n        \"description\": \"\"\n      }\n    },\n    {\n      \"column\": \"loan_percent_income\",\n      \"properties\": {\n        \"dtype\": \"number\",\n        \"std\": 11288.526556554836,\n        \"min\": 0.0,\n        \"max\": 31929.0,\n        \"num_unique_values\": 8,\n        \"samples\": [\n          0.1701609821792101,\n          0.15,\n          31929.0\n        ],\n        \"semantic_type\": \"\",\n        \"description\": \"\"\n      }\n    },\n    {\n      \"column\": \"cb_person_cred_hist_length\",\n      \"properties\": {\n        \"dtype\": \"number\",\n        \"std\": 11285.73803380249,\n        \"min\": 2.0,\n        \"max\": 31929.0,\n        \"num_unique_values\": 8,\n        \"samples\": [\n          5.804816937580256,\n          4.0,\n          31929.0\n        ],\n        \"semantic_type\": \"\",\n        \"description\": \"\"\n      }\n    }\n  ]\n}"
            }
          },
          "metadata": {},
          "execution_count": 2
        }
      ]
    },
    {
      "cell_type": "markdown",
      "source": [
        "#Print Head"
      ],
      "metadata": {
        "id": "Jv7x6OgPSHMN"
      }
    },
    {
      "cell_type": "code",
      "source": [
        "df.head()"
      ],
      "metadata": {
        "colab": {
          "base_uri": "https://localhost:8080/",
          "height": 206
        },
        "id": "uZSV3yU9Q0oO",
        "outputId": "1fc81d05-37fc-42f9-fcf6-263c864061e3"
      },
      "execution_count": null,
      "outputs": [
        {
          "output_type": "execute_result",
          "data": {
            "text/plain": [
              "   person_age  person_income person_home_ownership  person_emp_length  \\\n",
              "0          24          28000                   OWN                6.0   \n",
              "1          27          64000                  RENT                0.0   \n",
              "2          26          72000              MORTGAGE               10.0   \n",
              "3          23          27996                  RENT                7.0   \n",
              "4          30          44500                  RENT                2.0   \n",
              "\n",
              "         loan_intent loan_grade  loan_amnt  loan_int_rate  loan_status  \\\n",
              "0    HOMEIMPROVEMENT          B      10000          10.37            0   \n",
              "1           PERSONAL          C      10000          15.27            0   \n",
              "2          EDUCATION          D      16000            NaN            0   \n",
              "3  DEBTCONSOLIDATION          A      10000            NaN            1   \n",
              "4            MEDICAL          E      13000          16.32            1   \n",
              "\n",
              "   loan_percent_income cb_person_default_on_file  cb_person_cred_hist_length  \n",
              "0                 0.36                         N                           2  \n",
              "1                 0.16                         Y                          10  \n",
              "2                 0.22                         N                           3  \n",
              "3                 0.36                         N                           2  \n",
              "4                 0.29                         N                           6  "
            ],
            "text/html": [
              "\n",
              "  <div id=\"df-7248ff1b-2d46-43d2-b9b2-1eb5eb476344\" class=\"colab-df-container\">\n",
              "    <div>\n",
              "<style scoped>\n",
              "    .dataframe tbody tr th:only-of-type {\n",
              "        vertical-align: middle;\n",
              "    }\n",
              "\n",
              "    .dataframe tbody tr th {\n",
              "        vertical-align: top;\n",
              "    }\n",
              "\n",
              "    .dataframe thead th {\n",
              "        text-align: right;\n",
              "    }\n",
              "</style>\n",
              "<table border=\"1\" class=\"dataframe\">\n",
              "  <thead>\n",
              "    <tr style=\"text-align: right;\">\n",
              "      <th></th>\n",
              "      <th>person_age</th>\n",
              "      <th>person_income</th>\n",
              "      <th>person_home_ownership</th>\n",
              "      <th>person_emp_length</th>\n",
              "      <th>loan_intent</th>\n",
              "      <th>loan_grade</th>\n",
              "      <th>loan_amnt</th>\n",
              "      <th>loan_int_rate</th>\n",
              "      <th>loan_status</th>\n",
              "      <th>loan_percent_income</th>\n",
              "      <th>cb_person_default_on_file</th>\n",
              "      <th>cb_person_cred_hist_length</th>\n",
              "    </tr>\n",
              "  </thead>\n",
              "  <tbody>\n",
              "    <tr>\n",
              "      <th>0</th>\n",
              "      <td>24</td>\n",
              "      <td>28000</td>\n",
              "      <td>OWN</td>\n",
              "      <td>6.0</td>\n",
              "      <td>HOMEIMPROVEMENT</td>\n",
              "      <td>B</td>\n",
              "      <td>10000</td>\n",
              "      <td>10.37</td>\n",
              "      <td>0</td>\n",
              "      <td>0.36</td>\n",
              "      <td>N</td>\n",
              "      <td>2</td>\n",
              "    </tr>\n",
              "    <tr>\n",
              "      <th>1</th>\n",
              "      <td>27</td>\n",
              "      <td>64000</td>\n",
              "      <td>RENT</td>\n",
              "      <td>0.0</td>\n",
              "      <td>PERSONAL</td>\n",
              "      <td>C</td>\n",
              "      <td>10000</td>\n",
              "      <td>15.27</td>\n",
              "      <td>0</td>\n",
              "      <td>0.16</td>\n",
              "      <td>Y</td>\n",
              "      <td>10</td>\n",
              "    </tr>\n",
              "    <tr>\n",
              "      <th>2</th>\n",
              "      <td>26</td>\n",
              "      <td>72000</td>\n",
              "      <td>MORTGAGE</td>\n",
              "      <td>10.0</td>\n",
              "      <td>EDUCATION</td>\n",
              "      <td>D</td>\n",
              "      <td>16000</td>\n",
              "      <td>NaN</td>\n",
              "      <td>0</td>\n",
              "      <td>0.22</td>\n",
              "      <td>N</td>\n",
              "      <td>3</td>\n",
              "    </tr>\n",
              "    <tr>\n",
              "      <th>3</th>\n",
              "      <td>23</td>\n",
              "      <td>27996</td>\n",
              "      <td>RENT</td>\n",
              "      <td>7.0</td>\n",
              "      <td>DEBTCONSOLIDATION</td>\n",
              "      <td>A</td>\n",
              "      <td>10000</td>\n",
              "      <td>NaN</td>\n",
              "      <td>1</td>\n",
              "      <td>0.36</td>\n",
              "      <td>N</td>\n",
              "      <td>2</td>\n",
              "    </tr>\n",
              "    <tr>\n",
              "      <th>4</th>\n",
              "      <td>30</td>\n",
              "      <td>44500</td>\n",
              "      <td>RENT</td>\n",
              "      <td>2.0</td>\n",
              "      <td>MEDICAL</td>\n",
              "      <td>E</td>\n",
              "      <td>13000</td>\n",
              "      <td>16.32</td>\n",
              "      <td>1</td>\n",
              "      <td>0.29</td>\n",
              "      <td>N</td>\n",
              "      <td>6</td>\n",
              "    </tr>\n",
              "  </tbody>\n",
              "</table>\n",
              "</div>\n",
              "    <div class=\"colab-df-buttons\">\n",
              "\n",
              "  <div class=\"colab-df-container\">\n",
              "    <button class=\"colab-df-convert\" onclick=\"convertToInteractive('df-7248ff1b-2d46-43d2-b9b2-1eb5eb476344')\"\n",
              "            title=\"Convert this dataframe to an interactive table.\"\n",
              "            style=\"display:none;\">\n",
              "\n",
              "  <svg xmlns=\"http://www.w3.org/2000/svg\" height=\"24px\" viewBox=\"0 -960 960 960\">\n",
              "    <path d=\"M120-120v-720h720v720H120Zm60-500h600v-160H180v160Zm220 220h160v-160H400v160Zm0 220h160v-160H400v160ZM180-400h160v-160H180v160Zm440 0h160v-160H620v160ZM180-180h160v-160H180v160Zm440 0h160v-160H620v160Z\"/>\n",
              "  </svg>\n",
              "    </button>\n",
              "\n",
              "  <style>\n",
              "    .colab-df-container {\n",
              "      display:flex;\n",
              "      gap: 12px;\n",
              "    }\n",
              "\n",
              "    .colab-df-convert {\n",
              "      background-color: #E8F0FE;\n",
              "      border: none;\n",
              "      border-radius: 50%;\n",
              "      cursor: pointer;\n",
              "      display: none;\n",
              "      fill: #1967D2;\n",
              "      height: 32px;\n",
              "      padding: 0 0 0 0;\n",
              "      width: 32px;\n",
              "    }\n",
              "\n",
              "    .colab-df-convert:hover {\n",
              "      background-color: #E2EBFA;\n",
              "      box-shadow: 0px 1px 2px rgba(60, 64, 67, 0.3), 0px 1px 3px 1px rgba(60, 64, 67, 0.15);\n",
              "      fill: #174EA6;\n",
              "    }\n",
              "\n",
              "    .colab-df-buttons div {\n",
              "      margin-bottom: 4px;\n",
              "    }\n",
              "\n",
              "    [theme=dark] .colab-df-convert {\n",
              "      background-color: #3B4455;\n",
              "      fill: #D2E3FC;\n",
              "    }\n",
              "\n",
              "    [theme=dark] .colab-df-convert:hover {\n",
              "      background-color: #434B5C;\n",
              "      box-shadow: 0px 1px 3px 1px rgba(0, 0, 0, 0.15);\n",
              "      filter: drop-shadow(0px 1px 2px rgba(0, 0, 0, 0.3));\n",
              "      fill: #FFFFFF;\n",
              "    }\n",
              "  </style>\n",
              "\n",
              "    <script>\n",
              "      const buttonEl =\n",
              "        document.querySelector('#df-7248ff1b-2d46-43d2-b9b2-1eb5eb476344 button.colab-df-convert');\n",
              "      buttonEl.style.display =\n",
              "        google.colab.kernel.accessAllowed ? 'block' : 'none';\n",
              "\n",
              "      async function convertToInteractive(key) {\n",
              "        const element = document.querySelector('#df-7248ff1b-2d46-43d2-b9b2-1eb5eb476344');\n",
              "        const dataTable =\n",
              "          await google.colab.kernel.invokeFunction('convertToInteractive',\n",
              "                                                    [key], {});\n",
              "        if (!dataTable) return;\n",
              "\n",
              "        const docLinkHtml = 'Like what you see? Visit the ' +\n",
              "          '<a target=\"_blank\" href=https://colab.research.google.com/notebooks/data_table.ipynb>data table notebook</a>'\n",
              "          + ' to learn more about interactive tables.';\n",
              "        element.innerHTML = '';\n",
              "        dataTable['output_type'] = 'display_data';\n",
              "        await google.colab.output.renderOutput(dataTable, element);\n",
              "        const docLink = document.createElement('div');\n",
              "        docLink.innerHTML = docLinkHtml;\n",
              "        element.appendChild(docLink);\n",
              "      }\n",
              "    </script>\n",
              "  </div>\n",
              "\n",
              "\n",
              "<div id=\"df-c80c37bf-4c05-4714-9561-f6e991e7fd5d\">\n",
              "  <button class=\"colab-df-quickchart\" onclick=\"quickchart('df-c80c37bf-4c05-4714-9561-f6e991e7fd5d')\"\n",
              "            title=\"Suggest charts\"\n",
              "            style=\"display:none;\">\n",
              "\n",
              "<svg xmlns=\"http://www.w3.org/2000/svg\" height=\"24px\"viewBox=\"0 0 24 24\"\n",
              "     width=\"24px\">\n",
              "    <g>\n",
              "        <path d=\"M19 3H5c-1.1 0-2 .9-2 2v14c0 1.1.9 2 2 2h14c1.1 0 2-.9 2-2V5c0-1.1-.9-2-2-2zM9 17H7v-7h2v7zm4 0h-2V7h2v10zm4 0h-2v-4h2v4z\"/>\n",
              "    </g>\n",
              "</svg>\n",
              "  </button>\n",
              "\n",
              "<style>\n",
              "  .colab-df-quickchart {\n",
              "      --bg-color: #E8F0FE;\n",
              "      --fill-color: #1967D2;\n",
              "      --hover-bg-color: #E2EBFA;\n",
              "      --hover-fill-color: #174EA6;\n",
              "      --disabled-fill-color: #AAA;\n",
              "      --disabled-bg-color: #DDD;\n",
              "  }\n",
              "\n",
              "  [theme=dark] .colab-df-quickchart {\n",
              "      --bg-color: #3B4455;\n",
              "      --fill-color: #D2E3FC;\n",
              "      --hover-bg-color: #434B5C;\n",
              "      --hover-fill-color: #FFFFFF;\n",
              "      --disabled-bg-color: #3B4455;\n",
              "      --disabled-fill-color: #666;\n",
              "  }\n",
              "\n",
              "  .colab-df-quickchart {\n",
              "    background-color: var(--bg-color);\n",
              "    border: none;\n",
              "    border-radius: 50%;\n",
              "    cursor: pointer;\n",
              "    display: none;\n",
              "    fill: var(--fill-color);\n",
              "    height: 32px;\n",
              "    padding: 0;\n",
              "    width: 32px;\n",
              "  }\n",
              "\n",
              "  .colab-df-quickchart:hover {\n",
              "    background-color: var(--hover-bg-color);\n",
              "    box-shadow: 0 1px 2px rgba(60, 64, 67, 0.3), 0 1px 3px 1px rgba(60, 64, 67, 0.15);\n",
              "    fill: var(--button-hover-fill-color);\n",
              "  }\n",
              "\n",
              "  .colab-df-quickchart-complete:disabled,\n",
              "  .colab-df-quickchart-complete:disabled:hover {\n",
              "    background-color: var(--disabled-bg-color);\n",
              "    fill: var(--disabled-fill-color);\n",
              "    box-shadow: none;\n",
              "  }\n",
              "\n",
              "  .colab-df-spinner {\n",
              "    border: 2px solid var(--fill-color);\n",
              "    border-color: transparent;\n",
              "    border-bottom-color: var(--fill-color);\n",
              "    animation:\n",
              "      spin 1s steps(1) infinite;\n",
              "  }\n",
              "\n",
              "  @keyframes spin {\n",
              "    0% {\n",
              "      border-color: transparent;\n",
              "      border-bottom-color: var(--fill-color);\n",
              "      border-left-color: var(--fill-color);\n",
              "    }\n",
              "    20% {\n",
              "      border-color: transparent;\n",
              "      border-left-color: var(--fill-color);\n",
              "      border-top-color: var(--fill-color);\n",
              "    }\n",
              "    30% {\n",
              "      border-color: transparent;\n",
              "      border-left-color: var(--fill-color);\n",
              "      border-top-color: var(--fill-color);\n",
              "      border-right-color: var(--fill-color);\n",
              "    }\n",
              "    40% {\n",
              "      border-color: transparent;\n",
              "      border-right-color: var(--fill-color);\n",
              "      border-top-color: var(--fill-color);\n",
              "    }\n",
              "    60% {\n",
              "      border-color: transparent;\n",
              "      border-right-color: var(--fill-color);\n",
              "    }\n",
              "    80% {\n",
              "      border-color: transparent;\n",
              "      border-right-color: var(--fill-color);\n",
              "      border-bottom-color: var(--fill-color);\n",
              "    }\n",
              "    90% {\n",
              "      border-color: transparent;\n",
              "      border-bottom-color: var(--fill-color);\n",
              "    }\n",
              "  }\n",
              "</style>\n",
              "\n",
              "  <script>\n",
              "    async function quickchart(key) {\n",
              "      const quickchartButtonEl =\n",
              "        document.querySelector('#' + key + ' button');\n",
              "      quickchartButtonEl.disabled = true;  // To prevent multiple clicks.\n",
              "      quickchartButtonEl.classList.add('colab-df-spinner');\n",
              "      try {\n",
              "        const charts = await google.colab.kernel.invokeFunction(\n",
              "            'suggestCharts', [key], {});\n",
              "      } catch (error) {\n",
              "        console.error('Error during call to suggestCharts:', error);\n",
              "      }\n",
              "      quickchartButtonEl.classList.remove('colab-df-spinner');\n",
              "      quickchartButtonEl.classList.add('colab-df-quickchart-complete');\n",
              "    }\n",
              "    (() => {\n",
              "      let quickchartButtonEl =\n",
              "        document.querySelector('#df-c80c37bf-4c05-4714-9561-f6e991e7fd5d button');\n",
              "      quickchartButtonEl.style.display =\n",
              "        google.colab.kernel.accessAllowed ? 'block' : 'none';\n",
              "    })();\n",
              "  </script>\n",
              "</div>\n",
              "\n",
              "    </div>\n",
              "  </div>\n"
            ],
            "application/vnd.google.colaboratory.intrinsic+json": {
              "type": "dataframe",
              "variable_name": "df",
              "summary": "{\n  \"name\": \"df\",\n  \"rows\": 31929,\n  \"fields\": [\n    {\n      \"column\": \"person_age\",\n      \"properties\": {\n        \"dtype\": \"number\",\n        \"std\": 6,\n        \"min\": 20,\n        \"max\": 144,\n        \"num_unique_values\": 58,\n        \"samples\": [\n          24,\n          25,\n          48\n        ],\n        \"semantic_type\": \"\",\n        \"description\": \"\"\n      }\n    },\n    {\n      \"column\": \"person_income\",\n      \"properties\": {\n        \"dtype\": \"number\",\n        \"std\": 62279,\n        \"min\": 4000,\n        \"max\": 6000000,\n        \"num_unique_values\": 4236,\n        \"samples\": [\n          30035,\n          74678,\n          80340\n        ],\n        \"semantic_type\": \"\",\n        \"description\": \"\"\n      }\n    },\n    {\n      \"column\": \"person_home_ownership\",\n      \"properties\": {\n        \"dtype\": \"category\",\n        \"num_unique_values\": 4,\n        \"samples\": [\n          \"RENT\",\n          \"OTHER\",\n          \"OWN\"\n        ],\n        \"semantic_type\": \"\",\n        \"description\": \"\"\n      }\n    },\n    {\n      \"column\": \"person_emp_length\",\n      \"properties\": {\n        \"dtype\": \"number\",\n        \"std\": 4.137050749111752,\n        \"min\": 0.0,\n        \"max\": 123.0,\n        \"num_unique_values\": 36,\n        \"samples\": [\n          34.0,\n          4.0,\n          22.0\n        ],\n        \"semantic_type\": \"\",\n        \"description\": \"\"\n      }\n    },\n    {\n      \"column\": \"loan_intent\",\n      \"properties\": {\n        \"dtype\": \"category\",\n        \"num_unique_values\": 6,\n        \"samples\": [\n          \"HOMEIMPROVEMENT\",\n          \"PERSONAL\",\n          \"VENTURE\"\n        ],\n        \"semantic_type\": \"\",\n        \"description\": \"\"\n      }\n    },\n    {\n      \"column\": \"loan_grade\",\n      \"properties\": {\n        \"dtype\": \"category\",\n        \"num_unique_values\": 7,\n        \"samples\": [\n          \"B\",\n          \"C\",\n          \"F\"\n        ],\n        \"semantic_type\": \"\",\n        \"description\": \"\"\n      }\n    },\n    {\n      \"column\": \"loan_amnt\",\n      \"properties\": {\n        \"dtype\": \"number\",\n        \"std\": 6321,\n        \"min\": 500,\n        \"max\": 35000,\n        \"num_unique_values\": 751,\n        \"samples\": [\n          5525,\n          12350,\n          19500\n        ],\n        \"semantic_type\": \"\",\n        \"description\": \"\"\n      }\n    },\n    {\n      \"column\": \"loan_int_rate\",\n      \"properties\": {\n        \"dtype\": \"number\",\n        \"std\": 3.2384031305453527,\n        \"min\": 5.42,\n        \"max\": 23.22,\n        \"num_unique_values\": 347,\n        \"samples\": [\n          17.43,\n          10.74,\n          14.67\n        ],\n        \"semantic_type\": \"\",\n        \"description\": \"\"\n      }\n    },\n    {\n      \"column\": \"loan_status\",\n      \"properties\": {\n        \"dtype\": \"number\",\n        \"std\": 0,\n        \"min\": 0,\n        \"max\": 1,\n        \"num_unique_values\": 2,\n        \"samples\": [\n          1,\n          0\n        ],\n        \"semantic_type\": \"\",\n        \"description\": \"\"\n      }\n    },\n    {\n      \"column\": \"loan_percent_income\",\n      \"properties\": {\n        \"dtype\": \"number\",\n        \"std\": 0.10691948788803894,\n        \"min\": 0.0,\n        \"max\": 0.83,\n        \"num_unique_values\": 77,\n        \"samples\": [\n          0.32,\n          0.48\n        ],\n        \"semantic_type\": \"\",\n        \"description\": \"\"\n      }\n    },\n    {\n      \"column\": \"cb_person_default_on_file\",\n      \"properties\": {\n        \"dtype\": \"category\",\n        \"num_unique_values\": 2,\n        \"samples\": [\n          \"Y\",\n          \"N\"\n        ],\n        \"semantic_type\": \"\",\n        \"description\": \"\"\n      }\n    },\n    {\n      \"column\": \"cb_person_cred_hist_length\",\n      \"properties\": {\n        \"dtype\": \"number\",\n        \"std\": 4,\n        \"min\": 2,\n        \"max\": 30,\n        \"num_unique_values\": 29,\n        \"samples\": [\n          18,\n          12\n        ],\n        \"semantic_type\": \"\",\n        \"description\": \"\"\n      }\n    }\n  ]\n}"
            }
          },
          "metadata": {},
          "execution_count": 3
        }
      ]
    },
    {
      "cell_type": "markdown",
      "source": [
        "#Are there categorical or numerical features?"
      ],
      "metadata": {
        "id": "WnkJaPxnozpX"
      }
    },
    {
      "cell_type": "code",
      "source": [
        "# Check for categorical and numerical features\n",
        "def check_feature_types(df):\n",
        "    categorical_features = df.select_dtypes(include=['object']).columns.tolist()\n",
        "    numerical_features = df.select_dtypes(include=['int64', 'float64']).columns.tolist()\n",
        "    print(f'Categorical Features: {categorical_features}')\n",
        "    print(f'Numerical Features: {numerical_features}\\n')\n",
        "\n",
        "check_feature_types(df)"
      ],
      "metadata": {
        "colab": {
          "base_uri": "https://localhost:8080/"
        },
        "id": "r-XE6bRWowGl",
        "outputId": "548a7bda-d7b8-4537-9ab0-32db4bf962df"
      },
      "execution_count": null,
      "outputs": [
        {
          "output_type": "stream",
          "name": "stdout",
          "text": [
            "Categorical Features: ['person_home_ownership', 'loan_intent', 'loan_grade', 'cb_person_default_on_file']\n",
            "Numerical Features: ['person_age', 'person_income', 'person_emp_length', 'loan_amnt', 'loan_int_rate', 'loan_status', 'loan_percent_income', 'cb_person_cred_hist_length']\n",
            "\n"
          ]
        }
      ]
    },
    {
      "cell_type": "markdown",
      "source": [
        "Analysis: Yes, there are both numerical and categorical features.\n"
      ],
      "metadata": {
        "id": "zfw9Whryo8U3"
      }
    },
    {
      "cell_type": "markdown",
      "source": [
        "#Are there missing values?"
      ],
      "metadata": {
        "id": "45akXVrGSJ3n"
      }
    },
    {
      "cell_type": "code",
      "source": [
        "print(df.isnull().sum())"
      ],
      "metadata": {
        "colab": {
          "base_uri": "https://localhost:8080/"
        },
        "id": "lB_2Tw01QsrX",
        "outputId": "c163ba82-9966-4042-c78d-aaa321d40a2c"
      },
      "execution_count": null,
      "outputs": [
        {
          "output_type": "stream",
          "name": "stdout",
          "text": [
            "person_age                       0\n",
            "person_income                    0\n",
            "person_home_ownership            0\n",
            "person_emp_length              872\n",
            "loan_intent                      0\n",
            "loan_grade                       0\n",
            "loan_amnt                        0\n",
            "loan_int_rate                 3045\n",
            "loan_status                      0\n",
            "loan_percent_income              0\n",
            "cb_person_default_on_file        0\n",
            "cb_person_cred_hist_length       0\n",
            "dtype: int64\n"
          ]
        }
      ]
    },
    {
      "cell_type": "markdown",
      "source": [
        "Analysis: There are two columns with missing values. These columns are person_emp_length and loan_int_rate. We will replace these with the mean"
      ],
      "metadata": {
        "id": "mtlbAxJLmr8Q"
      }
    },
    {
      "cell_type": "markdown",
      "source": [
        "#Replace Null Values"
      ],
      "metadata": {
        "id": "efXVF6PbSqHz"
      }
    },
    {
      "cell_type": "code",
      "source": [
        "df['loan_int_rate'].fillna(df['loan_int_rate'].mean(), inplace=True)  # Replace NaNs with the mean of the column\n",
        "df['person_emp_length'].fillna(df['person_emp_length'].mean(), inplace=True)  # Replace NaNs with the mean of the column"
      ],
      "metadata": {
        "id": "cbJCSthfRhTH"
      },
      "execution_count": null,
      "outputs": []
    },
    {
      "cell_type": "markdown",
      "source": [
        "#Check that missing values have been replaced"
      ],
      "metadata": {
        "id": "Hbeyv5X3m63H"
      }
    },
    {
      "cell_type": "code",
      "source": [
        "print(df.isnull().sum())"
      ],
      "metadata": {
        "colab": {
          "base_uri": "https://localhost:8080/"
        },
        "id": "jLGClgYVRzdD",
        "outputId": "f224fa58-213f-470f-bce4-2e8fc1c7a474"
      },
      "execution_count": null,
      "outputs": [
        {
          "output_type": "stream",
          "name": "stdout",
          "text": [
            "person_age                    0\n",
            "person_income                 0\n",
            "person_home_ownership         0\n",
            "person_emp_length             0\n",
            "loan_intent                   0\n",
            "loan_grade                    0\n",
            "loan_amnt                     0\n",
            "loan_int_rate                 0\n",
            "loan_status                   0\n",
            "loan_percent_income           0\n",
            "cb_person_default_on_file     0\n",
            "cb_person_cred_hist_length    0\n",
            "dtype: int64\n"
          ]
        }
      ]
    },
    {
      "cell_type": "markdown",
      "source": [
        "#Check for outliers"
      ],
      "metadata": {
        "id": "SrazJVimB8uC"
      }
    },
    {
      "cell_type": "code",
      "source": [
        "def check_outliers(df, z_thresh=3):\n",
        "    numerical_features = df.select_dtypes(include=['int64', 'float64']).columns\n",
        "    outliers = pd.DataFrame()\n",
        "    for col in numerical_features:\n",
        "        outliers[col] = np.abs(zscore(df[col]))\n",
        "    outliers = (outliers > z_thresh).sum()\n",
        "    print(f'Outliers (Z-Score > {z_thresh}):\\n{outliers}\\n')\n",
        "\n",
        "check_outliers(df)"
      ],
      "metadata": {
        "colab": {
          "base_uri": "https://localhost:8080/"
        },
        "id": "pjekKfwrBiPn",
        "outputId": "4f2edd01-42bb-4547-dd5a-f163d01a295f"
      },
      "execution_count": null,
      "outputs": [
        {
          "output_type": "stream",
          "name": "stdout",
          "text": [
            "Outliers (Z-Score > 3):\n",
            "person_age                    547\n",
            "person_income                 227\n",
            "person_emp_length             309\n",
            "loan_amnt                     331\n",
            "loan_int_rate                  53\n",
            "loan_status                     0\n",
            "loan_percent_income           335\n",
            "cb_person_cred_hist_length    279\n",
            "dtype: int64\n",
            "\n"
          ]
        }
      ]
    },
    {
      "cell_type": "markdown",
      "source": [
        "#Is there colinearity?"
      ],
      "metadata": {
        "id": "byihaylauC1Z"
      }
    },
    {
      "cell_type": "code",
      "source": [
        "# Check for collinearity (focus on numerical features)\n",
        "def check_collinearity(df, threshold=0.8):\n",
        "    numerical_df = df.select_dtypes(include=['int64', 'float64'])\n",
        "    corr_matrix = numerical_df.corr().abs()\n",
        "    upper_tri = corr_matrix.where(np.triu(np.ones(corr_matrix.shape), k=1).astype(bool))\n",
        "    collinear_pairs = [(column, upper_tri[column].idxmax(), upper_tri[column].max()) for column in upper_tri.columns if any(upper_tri[column] > threshold)]\n",
        "    print(f'Collinear Pairs (Threshold > {threshold}):\\n{collinear_pairs}\\n')\n",
        "\n",
        "check_collinearity(df)"
      ],
      "metadata": {
        "colab": {
          "base_uri": "https://localhost:8080/"
        },
        "id": "ZzZBHAbBuGwu",
        "outputId": "0d424bfb-13a1-4d1d-ce03-28438f60333d"
      },
      "execution_count": null,
      "outputs": [
        {
          "output_type": "stream",
          "name": "stdout",
          "text": [
            "Collinear Pairs (Threshold > 0.8):\n",
            "[('cb_person_cred_hist_length', 'person_age', 0.8590789737613815)]\n",
            "\n"
          ]
        }
      ]
    },
    {
      "cell_type": "markdown",
      "source": [
        "Analysis: Yes, person credit history length and person age are highly correlated. This correlation makes sense as older people will have longer credit histories."
      ],
      "metadata": {
        "id": "14td49YJuImu"
      }
    },
    {
      "cell_type": "markdown",
      "source": [
        "#Which numerical varibles are best at predicting our target variable?"
      ],
      "metadata": {
        "id": "Wbyl2gvUulnj"
      }
    },
    {
      "cell_type": "code",
      "source": [
        "from sklearn.feature_selection import mutual_info_classif\n",
        "\n",
        "# Select numerical features\n",
        "numerical_features = df.select_dtypes(include=['int64', 'float64']).columns.tolist()\n",
        "\n",
        "# Calculate mutual information between each numerical feature and the target\n",
        "mutual_info = mutual_info_classif(df[numerical_features], df['loan_status'])\n",
        "\n",
        "# Create a DataFrame to display the mutual information\n",
        "mi_df = pd.DataFrame({'Feature': numerical_features, 'Mutual Information': mutual_info})\n",
        "mi_df.sort_values(by='Mutual Information', ascending=False, inplace=True)\n",
        "\n",
        "print(f'Mutual Information with Target Variable:\\n{mi_df}\\n')\n"
      ],
      "metadata": {
        "colab": {
          "base_uri": "https://localhost:8080/"
        },
        "id": "SFJQcj8itS7s",
        "outputId": "f87074c8-8a80-43f8-8e82-fe56cf28fed9"
      },
      "execution_count": null,
      "outputs": [
        {
          "output_type": "stream",
          "name": "stdout",
          "text": [
            "Mutual Information with Target Variable:\n",
            "                      Feature  Mutual Information\n",
            "5                 loan_status            0.525552\n",
            "1               person_income            0.113792\n",
            "6         loan_percent_income            0.082570\n",
            "4               loan_int_rate            0.068471\n",
            "3                   loan_amnt            0.013978\n",
            "2           person_emp_length            0.007900\n",
            "0                  person_age            0.003237\n",
            "7  cb_person_cred_hist_length            0.000951\n",
            "\n"
          ]
        }
      ]
    },
    {
      "cell_type": "markdown",
      "source": [
        "Analysis: Apart from the target itself, person income and loan percent income provide the most predictive value. Since age and credit history are highly correlated and credit history has low predictive value, we can drop this column."
      ],
      "metadata": {
        "id": "VVZpePnFuyIM"
      }
    },
    {
      "cell_type": "code",
      "source": [
        "# Drop the collinear and less informative feature\n",
        "df.drop(columns=['cb_person_cred_hist_length'], inplace=True)"
      ],
      "metadata": {
        "id": "aCj5s0tEvUvx"
      },
      "execution_count": null,
      "outputs": []
    },
    {
      "cell_type": "markdown",
      "source": [
        "#Can we determine which class is a higher credit risk?"
      ],
      "metadata": {
        "id": "QD0ziQ1i3Xq7"
      }
    },
    {
      "cell_type": "code",
      "source": [
        "# Calculate detailed descriptive statistics for person_income and loan_percent_income for each loan_status class\n",
        "descriptive_stats = df.groupby('loan_status')[['person_income', 'loan_percent_income']].describe()\n",
        "\n",
        "print(\"Descriptive statistics of person_income and loan_percent_income for each loan_status class:\")\n",
        "print(descriptive_stats)"
      ],
      "metadata": {
        "colab": {
          "base_uri": "https://localhost:8080/"
        },
        "id": "zibgWhHM3cWK",
        "outputId": "8e6e06db-7cf6-409b-9351-de2897ce6757"
      },
      "execution_count": null,
      "outputs": [
        {
          "output_type": "stream",
          "name": "stdout",
          "text": [
            "Descriptive statistics of person_income and loan_percent_income for each loan_status class:\n",
            "            person_income                                               \\\n",
            "                    count          mean           std     min      25%   \n",
            "loan_status                                                              \n",
            "0                 24967.0  70895.571154  66982.326134  7000.0  42000.0   \n",
            "1                  6962.0  48989.955760  36386.149452  4000.0  30000.0   \n",
            "\n",
            "                                         loan_percent_income            \\\n",
            "                 50%      75%        max               count      mean   \n",
            "loan_status                                                              \n",
            "0            60000.0  84500.0  6000000.0             24967.0  0.148621   \n",
            "1            41000.0  59004.0   703800.0              6962.0  0.247407   \n",
            "\n",
            "                                                     \n",
            "                  std   min   25%   50%   75%   max  \n",
            "loan_status                                          \n",
            "0            0.087224  0.00  0.08  0.13  0.20  0.83  \n",
            "1            0.132347  0.01  0.14  0.24  0.34  0.78  \n"
          ]
        }
      ]
    },
    {
      "cell_type": "markdown",
      "source": [
        "Analysis: Since income and loan percent variables were determined to have the most predictive value, we looked at how these features differ between the two classes. Based on the results we can determine 3 things.\n",
        "\n",
        "1. Class 0 has significally higher count.\n",
        "2. Class 0 has a much higher mean income.\n",
        "3. Class 0 has a lower mean interest rate.\n",
        "\n",
        "All 3 of these point to class 0 being a lower credit risk."
      ],
      "metadata": {
        "id": "zXDxCmpK3g32"
      }
    },
    {
      "cell_type": "markdown",
      "source": [
        "#Is the target balanced?\n"
      ],
      "metadata": {
        "id": "VPd0ldXrbFbV"
      }
    },
    {
      "cell_type": "code",
      "source": [
        "\n",
        "class_counts = df['loan_status'].value_counts()\n",
        "class_counts.plot(kind='bar', color=['lightblue', 'orange'])\n",
        "plt.title('Class Distribution')\n",
        "plt.xlabel('Class')\n",
        "plt.ylabel('Count')\n",
        "plt.show()\n",
        "\n",
        "class_counts = df['loan_status'].value_counts()\n",
        "class_counts.plot(kind='pie', autopct='%1.1f%%', colors=['lightblue', 'orange'])\n",
        "plt.title('Class Distribution')\n",
        "plt.ylabel('')  # Hide the y-label\n",
        "plt.show()\n"
      ],
      "metadata": {
        "colab": {
          "base_uri": "https://localhost:8080/",
          "height": 878
        },
        "id": "JUuqyIkDbL_W",
        "outputId": "cac969ce-a5ce-4652-ef50-16fa302094a5"
      },
      "execution_count": null,
      "outputs": [
        {
          "output_type": "display_data",
          "data": {
            "text/plain": [
              "<Figure size 640x480 with 1 Axes>"
            ],
            "image/png": "[encoded data removed]"
          },
          "metadata": {}
        },
        {
          "output_type": "display_data",
          "data": {
            "text/plain": [
              "<Figure size 640x480 with 1 Axes>"
            ],
            "image/png": "[encoded data removed]"
          },
          "metadata": {}
        }
      ]
    },
    {
      "cell_type": "markdown",
      "source": [
        "Analysis: There are significantly more class 0 values than class 1, meaning the class distribution is unbalanced. This inbalance will have to be addressed and assessed."
      ],
      "metadata": {
        "id": "gvfZCIZrbls1"
      }
    },
    {
      "cell_type": "markdown",
      "source": [
        "#Perform classification and view results"
      ],
      "metadata": {
        "id": "To9sgHrbTwU4"
      }
    },
    {
      "cell_type": "code",
      "source": [
        "\n",
        "# Identify categorical columns\n",
        "categorical_cols = df.select_dtypes(include=['object']).columns\n",
        "\n",
        "# Separate features and target\n",
        "X = df.drop('loan_status', axis=1)  # Adjust 'loan_status' as needed\n",
        "y = df['loan_status']\n",
        "\n",
        "# One-hot encode categorical variables\n",
        "X_encoded = pd.get_dummies(X, columns=categorical_cols, drop_first=True)\n",
        "\n",
        "# Split the data into training and testing sets\n",
        "X_train, X_test, y_train, y_test = train_test_split(X_encoded, y, test_size=0.2, random_state=42)\n",
        "\n",
        "# Create a binary classification model (e.g., Logistic Regression)\n",
        "model = LogisticRegression(max_iter=1000)  # Increase max_iter if necessary\n",
        "\n",
        "# Fit the model on the training data\n",
        "model.fit(X_train, y_train)\n",
        "\n",
        "# Make predictions on the test data\n",
        "y_pred = model.predict(X_test)\n",
        "\n",
        "# Evaluate the model's performance\n",
        "accuracy = metrics.accuracy_score(y_test, y_pred)\n",
        "conf_matrix = metrics.confusion_matrix(y_test, y_pred)\n",
        "report = metrics.classification_report(y_test, y_pred)\n",
        "\n",
        "print(f\"Accuracy: {accuracy:.2f}\")\n",
        "print(\"Confusion Matrix:\")\n",
        "print(conf_matrix)\n",
        "print(\"Classification Report:\")\n",
        "print(report)\n"
      ],
      "metadata": {
        "colab": {
          "base_uri": "https://localhost:8080/"
        },
        "id": "Dz4yiMZP9eiy",
        "outputId": "701ed0bc-4016-44d3-b5d7-cdeaae346348"
      },
      "execution_count": null,
      "outputs": [
        {
          "output_type": "stream",
          "name": "stdout",
          "text": [
            "Accuracy: 0.81\n",
            "Confusion Matrix:\n",
            "[[4742  220]\n",
            " [ 982  442]]\n",
            "Classification Report:\n",
            "              precision    recall  f1-score   support\n",
            "\n",
            "           0       0.83      0.96      0.89      4962\n",
            "           1       0.67      0.31      0.42      1424\n",
            "\n",
            "    accuracy                           0.81      6386\n",
            "   macro avg       0.75      0.63      0.66      6386\n",
            "weighted avg       0.79      0.81      0.78      6386\n",
            "\n"
          ]
        }
      ]
    },
    {
      "cell_type": "markdown",
      "source": [
        "Analysis: Our first run model determines that Class 0 is more accurate than Class 1, potentially due to the unblanced distribution previously identified.\n"
      ],
      "metadata": {
        "id": "0UTfFnvsadj6"
      }
    },
    {
      "cell_type": "markdown",
      "source": [
        "#Visualize results"
      ],
      "metadata": {
        "id": "F5vHy8u9WWkI"
      }
    },
    {
      "cell_type": "code",
      "source": [
        "# visualize the results\n",
        "\n",
        "# Compute ROC curve\n",
        "fpr, tpr, thresholds = metrics.roc_curve(y_test, model.predict_proba(X_test)[:, 1])\n",
        "\n",
        "# Plot the ROC curve\n",
        "plt.figure()\n",
        "plt.plot(fpr, tpr, color='darkorange', lw=2, label='ROC curve (area = %0.2f)' % metrics.roc_auc_score(y_test, model.predict_proba(X_test)[:, 1]))\n",
        "plt.plot([0, 1], [0, 1], color='navy', lw=2, linestyle='--')\n",
        "plt.xlim([0.0, 1.0])\n",
        "plt.ylim([0.0, 1.05])\n",
        "plt.xlabel('False Positive Rate')\n",
        "plt.ylabel('True Positive Rate')\n",
        "plt.title('ROC Curve')\n",
        "plt.legend(loc='lower right')\n",
        "plt.show()"
      ],
      "metadata": {
        "colab": {
          "base_uri": "https://localhost:8080/",
          "height": 472
        },
        "id": "_NeCMsFIWYHg",
        "outputId": "9c33b06c-ae13-4721-900e-7ba1403690cb"
      },
      "execution_count": null,
      "outputs": [
        {
          "output_type": "display_data",
          "data": {
            "text/plain": [
              "<Figure size 640x480 with 1 Axes>"
            ],
            "image/png": "[encoded data removed]"
          },
          "metadata": {}
        }
      ]
    },
    {
      "cell_type": "markdown",
      "source": [
        "Analysis: We have determined an ROC curve with an area = 0.79, making the graph to curve closer to the top left, which is the preferred curvature. It apprears that the model performed farily well but there is certainly room for improvement."
      ],
      "metadata": {
        "id": "lWB55AcpWt6O"
      }
    },
    {
      "cell_type": "markdown",
      "source": [
        "#Visualize results further"
      ],
      "metadata": {
        "id": "mnjAWOgCXo-R"
      }
    },
    {
      "cell_type": "code",
      "source": [
        "# visualize the confusion matrix to better understand how your model performs\n",
        "# in terms of true positives, true negatives, false positives, and false negatives.\n",
        "\n",
        "sns.heatmap(conf_matrix, annot=True, fmt='d', cmap='Blues')\n",
        "plt.xlabel('Predicted')\n",
        "plt.ylabel('True')\n",
        "plt.title('Confusion Matrix')\n",
        "plt.show()"
      ],
      "metadata": {
        "colab": {
          "base_uri": "https://localhost:8080/",
          "height": 472
        },
        "id": "HwMn8qIqXkLW",
        "outputId": "f658af0e-cd23-4ef9-a094-b33405b2c9b0"
      },
      "execution_count": null,
      "outputs": [
        {
          "output_type": "display_data",
          "data": {
            "text/plain": [
              "<Figure size 640x480 with 2 Axes>"
            ],
            "image/png": "[encoded data removed]"
          },
          "metadata": {}
        }
      ]
    },
    {
      "cell_type": "markdown",
      "source": [
        "#Apply preprocessing pipeline"
      ],
      "metadata": {
        "id": "LwK3tQvc31vI"
      }
    },
    {
      "cell_type": "code",
      "source": [
        "\n",
        "# Define the feature columns\n",
        "numeric_features = [\n",
        "    \"person_age\", \"person_income\", \"person_emp_length\",\n",
        "    \"loan_amnt\", \"loan_int_rate\", \"loan_percent_income\",\n",
        "]\n",
        "categorical_features = [\n",
        "    \"person_home_ownership\", \"loan_intent\",\n",
        "    \"loan_grade\", \"cb_person_default_on_file\"\n",
        "]\n",
        "\n",
        "# Create the numeric transformer pipeline\n",
        "numeric_transformer = Pipeline(steps=[\n",
        "    (\"imputer\", SimpleImputer(strategy=\"mean\")),\n",
        "    (\"scaler\", StandardScaler())\n",
        "])\n",
        "\n",
        "# Create the categorical transformer\n",
        "categorical_transformer = OneHotEncoder(handle_unknown=\"ignore\")\n",
        "\n",
        "# Combine them into a ColumnTransformer\n",
        "preprocessor = ColumnTransformer(\n",
        "    transformers=[\n",
        "        (\"num\", numeric_transformer, numeric_features),\n",
        "        (\"cat\", categorical_transformer, categorical_features),\n",
        "    ]\n",
        ")\n",
        "\n",
        "# Split the data\n",
        "y = df[\"loan_status\"]\n",
        "X = df.drop(columns=[\"loan_status\"])\n",
        "\n",
        "# Build the pipeline\n",
        "pipeline_steps = [\n",
        "    ('pre', preprocessor),\n",
        "    ('DT', DecisionTreeClassifier())\n",
        "]\n",
        "pipe = Pipeline(pipeline_steps)\n",
        "\n",
        "# Split the data into training and test sets\n",
        "X_train, X_test, y_train, y_test = train_test_split(X, y, test_size=0.25, random_state=42)\n",
        "\n",
        "# Fit the pipeline to the training data\n",
        "pipe.fit(X_train, y_train)\n",
        "\n",
        "# Score the pipeline on the test data\n",
        "score = pipe.score(X_test, y_test)\n",
        "\n",
        "score\n",
        "\n",
        "# Compute and print additional metrics\n",
        "y_pred = pipe.predict(X_test)\n",
        "\n",
        "# Compute and print the confusion matrix\n",
        "conf_matrix = confusion_matrix(y_test, y_pred)\n",
        "print(\"Confusion Matrix:\")\n",
        "print(conf_matrix)\n",
        "\n",
        "# Compute and print the classification report\n",
        "class_report = classification_report(y_test, y_pred)\n",
        "print(\"Classification Report:\")\n",
        "print(class_report)\n"
      ],
      "metadata": {
        "colab": {
          "base_uri": "https://localhost:8080/"
        },
        "id": "i_LwLk5v8uhe",
        "outputId": "5b09a4f3-616b-4c2a-c9ce-f97e54d256d9"
      },
      "execution_count": null,
      "outputs": [
        {
          "output_type": "stream",
          "name": "stdout",
          "text": [
            "Confusion Matrix:\n",
            "[[5755  468]\n",
            " [ 409 1351]]\n",
            "Classification Report:\n",
            "              precision    recall  f1-score   support\n",
            "\n",
            "           0       0.93      0.92      0.93      6223\n",
            "           1       0.74      0.77      0.75      1760\n",
            "\n",
            "    accuracy                           0.89      7983\n",
            "   macro avg       0.84      0.85      0.84      7983\n",
            "weighted avg       0.89      0.89      0.89      7983\n",
            "\n"
          ]
        }
      ]
    },
    {
      "cell_type": "code",
      "source": [
        "sns.heatmap(conf_matrix, annot=True, fmt='d', cmap='Blues')\n",
        "plt.xlabel('Predicted')\n",
        "plt.ylabel('True')\n",
        "plt.title('Confusion Matrix')\n",
        "plt.show()"
      ],
      "metadata": {
        "colab": {
          "base_uri": "https://localhost:8080/",
          "height": 472
        },
        "id": "sryUfUij-2uq",
        "outputId": "58e6f9b5-8e16-4251-c510-4ead92c154be"
      },
      "execution_count": null,
      "outputs": [
        {
          "output_type": "display_data",
          "data": {
            "text/plain": [
              "<Figure size 640x480 with 2 Axes>"
            ],
            "image/png": "[encoded data removed]"
          },
          "metadata": {}
        }
      ]
    },
    {
      "cell_type": "markdown",
      "source": [
        "Analysis: When comparing the first confusion matrix to the second matrix after preprocessing, we were able to identify that all metrics have improved. This\n",
        " improvement is especially prevalant in predicting the Class 1 variable as we can see a new f1 score for this variable of 0.75 vs 0.43 in our previous run."
      ],
      "metadata": {
        "id": "yFvtbzNN-1F9"
      }
    },
    {
      "cell_type": "markdown",
      "source": [
        "#Try rebalancing"
      ],
      "metadata": {
        "id": "wY-h0zf9EEZp"
      }
    },
    {
      "cell_type": "code",
      "source": [
        "\n",
        "# Define the feature columns\n",
        "numeric_features = [\n",
        "    \"person_age\", \"person_income\", \"person_emp_length\",\n",
        "    \"loan_amnt\", \"loan_int_rate\", \"loan_percent_income\",\n",
        "]\n",
        "categorical_features = [\n",
        "    \"person_home_ownership\", \"loan_intent\",\n",
        "    \"loan_grade\", \"cb_person_default_on_file\"\n",
        "]\n",
        "\n",
        "# Create the numeric transformer pipeline\n",
        "numeric_transformer = Pipeline(steps=[\n",
        "    (\"imputer\", SimpleImputer(strategy=\"mean\")),\n",
        "    (\"scaler\", StandardScaler())\n",
        "])\n",
        "\n",
        "# Create the categorical transformer\n",
        "categorical_transformer = OneHotEncoder(handle_unknown=\"ignore\")\n",
        "\n",
        "# Combine them into a ColumnTransformer\n",
        "preprocessor = ColumnTransformer(\n",
        "    transformers=[\n",
        "        (\"num\", numeric_transformer, numeric_features),\n",
        "        (\"cat\", categorical_transformer, categorical_features),\n",
        "    ]\n",
        ")\n",
        "\n",
        "# Split the data\n",
        "y = df[\"loan_status\"]\n",
        "X = df.drop(columns=[\"loan_status\"])\n",
        "\n",
        "# Compute class weights\n",
        "class_weights = compute_class_weight(class_weight='balanced', classes=[0, 1], y=y)\n",
        "class_weights_dict = dict(zip([0, 1], class_weights))\n",
        "\n",
        "# Build the pipeline with RandomForestClassifier and class weights\n",
        "pipeline_steps = [\n",
        "    ('pre', preprocessor),\n",
        "    ('clf', RandomForestClassifier(class_weight=class_weights_dict, random_state=42))\n",
        "]\n",
        "pipe = Pipeline(pipeline_steps)\n",
        "\n",
        "# Split the data into training and test sets\n",
        "X_train, X_test, y_train, y_test = train_test_split(X, y, test_size=0.25, random_state=42)\n",
        "\n",
        "# Fit the pipeline to the training data\n",
        "pipe.fit(X_train, y_train)\n",
        "\n",
        "# Score the pipeline on the test data\n",
        "score = pipe.score(X_test, y_test)\n",
        "\n",
        "print(\"Accuracy Score:\", score)\n",
        "\n",
        "# Compute and print additional metrics\n",
        "y_pred = pipe.predict(X_test)\n",
        "\n",
        "# Compute and print the confusion matrix\n",
        "conf_matrix = confusion_matrix(y_test, y_pred)\n",
        "print(\"Confusion Matrix:\")\n",
        "print(conf_matrix)\n",
        "\n",
        "# Compute and print the classification report\n",
        "class_report = classification_report(y_test, y_pred)\n",
        "print(\"Classification Report:\")\n",
        "print(class_report)\n",
        "\n",
        "# Compute and print the ROC AUC Score\n",
        "y_prob = pipe.predict_proba(X_test)[:, 1]\n",
        "roc_auc = roc_auc_score(y_test, y_prob)\n",
        "print(\"ROC AUC Score:\", roc_auc)\n",
        "\n",
        "# Plot ROC Curve\n",
        "fpr, tpr, _ = metrics.roc_curve(y_test, y_prob)\n",
        "\n",
        "plt.figure()\n",
        "plt.plot(fpr, tpr, color='darkorange', lw=2, label='ROC curve (area = %0.2f)' % roc_auc)\n",
        "plt.plot([0, 1], [0, 1], color='navy', lw=2, linestyle='--')\n",
        "plt.xlim([0.0, 1.0])\n",
        "plt.ylim([0.0, 1.05])\n",
        "plt.xlabel('False Positive Rate')\n",
        "plt.ylabel('True Positive Rate')\n",
        "plt.title('ROC Curve')\n",
        "plt.legend(loc='lower right')\n",
        "plt.show()\n",
        "\n"
      ],
      "metadata": {
        "colab": {
          "base_uri": "https://localhost:8080/",
          "height": 732
        },
        "id": "REDcYJaoGQMs",
        "outputId": "26f05b42-c228-44cf-d786-1d85d4a34961"
      },
      "execution_count": null,
      "outputs": [
        {
          "output_type": "stream",
          "name": "stdout",
          "text": [
            "Accuracy Score: 0.9313541275209821\n",
            "Confusion Matrix:\n",
            "[[6183   40]\n",
            " [ 508 1252]]\n",
            "Classification Report:\n",
            "              precision    recall  f1-score   support\n",
            "\n",
            "           0       0.92      0.99      0.96      6223\n",
            "           1       0.97      0.71      0.82      1760\n",
            "\n",
            "    accuracy                           0.93      7983\n",
            "   macro avg       0.95      0.85      0.89      7983\n",
            "weighted avg       0.93      0.93      0.93      7983\n",
            "\n",
            "ROC AUC Score: 0.9274646472762333\n"
          ]
        },
        {
          "output_type": "display_data",
          "data": {
            "text/plain": [
              "<Figure size 640x480 with 1 Axes>"
            ],
            "image/png": "[encoded data removed]"
          },
          "metadata": {}
        }
      ]
    },
    {
      "cell_type": "markdown",
      "source": [
        "Analysis: By using the 'class_weight_balance' calculation, our model is able to attach a weight to our Class 0 and Class 1 variables in order to avoid imbalancing. This step has allowed our model to improve its f1 score to 96 for Class 0 and 82 for Class 1, which is an improvement of .04 and .07 respectively.\n",
        "\n",
        "We can also visualize the results with a new ROC curve showing a new ROC score of .93 vs our original of .79."
      ],
      "metadata": {
        "id": "Fu-kUEO3Hx5O"
      }
    },
    {
      "cell_type": "markdown",
      "source": [
        "#Test code"
      ],
      "metadata": {
        "id": "ngfzfn0skyIG"
      }
    },
    {
      "cell_type": "code",
      "source": [
        "import requests\n",
        "from io import StringIO\n",
        "\n",
        "# Load your original dataset\n",
        "file_id = '1BcXkjYxrCgEg74FyfTWylp8WkRr-6D40'\n",
        "url = f'https://drive.google.com/uc?id={file_id}'\n",
        "df = pd.read_csv(url)\n",
        "\n",
        "# Define the feature columns\n",
        "numeric_features = [\n",
        "    \"person_age\", \"person_income\", \"person_emp_length\",\n",
        "    \"loan_amnt\", \"loan_int_rate\", \"loan_percent_income\",\n",
        "    \"cb_person_cred_hist_length\"\n",
        "]\n",
        "categorical_features = [\n",
        "    \"person_home_ownership\", \"loan_intent\",\n",
        "    \"loan_grade\", \"cb_person_default_on_file\"\n",
        "]\n",
        "\n",
        "# Create the numeric transformer pipeline\n",
        "numeric_transformer = Pipeline(steps=[\n",
        "    (\"imputer\", SimpleImputer(strategy=\"mean\")),\n",
        "    (\"scaler\", StandardScaler())\n",
        "])\n",
        "\n",
        "# Create the categorical transformer\n",
        "categorical_transformer = OneHotEncoder(handle_unknown=\"ignore\")\n",
        "\n",
        "# Combine them into a ColumnTransformer\n",
        "preprocessor = ColumnTransformer(\n",
        "    transformers=[\n",
        "        (\"num\", numeric_transformer, numeric_features),\n",
        "        (\"cat\", categorical_transformer, categorical_features),\n",
        "    ]\n",
        ")\n",
        "\n",
        "# Split the data\n",
        "y = df[\"loan_status\"]\n",
        "X = df.drop(columns=[\"loan_status\"])\n",
        "\n",
        "# Compute class weights\n",
        "class_weights = compute_class_weight(class_weight='balanced', classes=[0, 1], y=y)\n",
        "class_weights_dict = dict(zip([0, 1], class_weights))\n",
        "\n",
        "# Build the pipeline with RandomForestClassifier and class weights\n",
        "pipeline_steps = [\n",
        "    ('pre', preprocessor),\n",
        "    ('clf', RandomForestClassifier(class_weight=class_weights_dict, random_state=42))\n",
        "]\n",
        "pipe = Pipeline(pipeline_steps)\n",
        "\n",
        "# Split the data into training and test sets\n",
        "X_train, X_test, y_train, y_test = train_test_split(X, y, test_size=0.25, random_state=42)\n",
        "\n",
        "# Fit the pipeline to the training data\n",
        "pipe.fit(X_train, y_train)\n",
        "\n",
        "# Score the pipeline on the test data\n",
        "score = pipe.score(X_test, y_test)\n",
        "print(f'Accuracy on the test data: {score}')\n",
        "\n",
        "# Load the new data from the provided online URL\n",
        "url = 'https://raw.githubusercontent.com/Dong2Yo/PredcitiveAnalysis_BusinessProfessional/main/data/new_data_w_target.csv'\n",
        "response = requests.get(url)\n",
        "data = pd.read_csv(StringIO(response.text))\n",
        "\n",
        "# Ensure the new data has the same preprocessing\n",
        "new_X = data.drop(columns=[\"loan_status\"])\n",
        "new_y_true = data[\"loan_status\"]\n",
        "\n",
        "# Predict using the pipeline\n",
        "new_y_pred = pipe.predict(new_X)\n",
        "\n",
        "# Compare predictions with the actual target values\n",
        "accuracy_new_data = accuracy_score(new_y_true, new_y_pred)\n",
        "print(f'Accuracy on the new data: {accuracy_new_data}')\n"
      ],
      "metadata": {
        "colab": {
          "base_uri": "https://localhost:8080/"
        },
        "id": "OJGWLtHlnbG5",
        "outputId": "feb49789-d386-4f3c-c8b1-219f528cb097"
      },
      "execution_count": null,
      "outputs": [
        {
          "output_type": "stream",
          "name": "stdout",
          "text": [
            "Accuracy on the test data: 0.9308530627583615\n",
            "Accuracy on the new data: 0.9248466257668712\n"
          ]
        }
      ]
    },
    {
      "cell_type": "markdown",
      "source": [
        "Analysis: Model was able to predict the correct class 92.4% of the time with the new data."
      ],
      "metadata": {
        "id": "pCJ6JM2gdIsb"
      }
    },
    {
      "cell_type": "code",
      "source": [],
      "metadata": {
        "id": "eQTZ8vVCdQEG"
      },
      "execution_count": null,
      "outputs": []
    }
  ]
}