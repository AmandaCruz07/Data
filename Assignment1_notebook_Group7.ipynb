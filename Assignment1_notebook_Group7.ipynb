{
  "nbformat": 4,
  "nbformat_minor": 0,
  "metadata": {
    "colab": {
      "provenance": [],
      "include_colab_link": true
    },
    "kernelspec": {
      "name": "python3",
      "display_name": "Python 3"
    },
    "language_info": {
      "name": "python"
    }
  },
  "cells": [
    {
      "cell_type": "markdown",
      "metadata": {
        "id": "view-in-github",
        "colab_type": "text"
      },
      "source": [
        "<a href=\"https://colab.research.google.com/github/AmandaCruz07/Data/blob/main/Assignment1_notebook_Group7.ipynb\" target=\"_parent\"><img src=\"https://colab.research.google.com/assets/colab-badge.svg\" alt=\"Open In Colab\"/></a>"
      ]
    },
    {
      "cell_type": "markdown",
      "source": [
        "#Import Libraries"
      ],
      "metadata": {
        "id": "SA_mkzXu2XU6"
      }
    },
    {
      "cell_type": "code",
      "source": [
        "import numpy as np\n",
        "import pandas as pd\n",
        "from sklearn.model_selection import train_test_split\n",
        "from sklearn.linear_model import LinearRegression\n",
        "from sklearn.metrics import mean_squared_error, r2_score\n",
        "import matplotlib.pyplot as plt\n",
        "from scipy import stats\n",
        "from sklearn.neighbors import KNeighborsRegressor\n"
      ],
      "metadata": {
        "id": "RlrwcvfkzBEI"
      },
      "execution_count": null,
      "outputs": []
    },
    {
      "cell_type": "code",
      "source": [
        "from sklearn.preprocessing import StandardScaler, LabelEncoder\n",
        "from sklearn.impute import SimpleImputer\n",
        "from sklearn.utils import resample"
      ],
      "metadata": {
        "id": "86ekChXf3QWZ"
      },
      "execution_count": null,
      "outputs": []
    },
    {
      "cell_type": "markdown",
      "source": [
        "#Load and Display Data"
      ],
      "metadata": {
        "id": "4K16Vm0e2aBA"
      }
    },
    {
      "cell_type": "code",
      "source": [
        "file_id = '1DPzld5smHl7pds4APVL7qMBMHPQEN_CD'\n",
        "player_info = f'https://drive.google.com/uc?id={file_id}'\n",
        "player_data = pd.read_csv(player_info)\n",
        "player_data.head()"
      ],
      "metadata": {
        "colab": {
          "base_uri": "https://localhost:8080/",
          "height": 256
        },
        "id": "MNos8Uiqy9Z0",
        "outputId": "94c13cf6-9f5a-4f1f-a9ce-d6fc4b9e303f"
      },
      "execution_count": null,
      "outputs": [
        {
          "output_type": "execute_result",
          "data": {
            "text/plain": [
              "   wage_eur  attacking_crossing  attacking_finishing  \\\n",
              "0    565000                  88                   95   \n",
              "1    405000                  84                   94   \n",
              "2    290000                  87                   87   \n",
              "3    125000                  13                   11   \n",
              "4    470000                  81                   84   \n",
              "\n",
              "   attacking_heading_accuracy  attacking_short_passing  attacking_volleys  \\\n",
              "0                          70                       92                 88   \n",
              "1                          89                       83                 87   \n",
              "2                          62                       87                 87   \n",
              "3                          15                       43                 13   \n",
              "4                          61                       89                 83   \n",
              "\n",
              "   skill_dribbling  skill_curve  skill_fk_accuracy  skill_long_passing  ...  \\\n",
              "0               97           93                 94                  92  ...   \n",
              "1               89           81                 76                  77  ...   \n",
              "2               96           88                 87                  81  ...   \n",
              "3               12           13                 14                  40  ...   \n",
              "4               95           83                 79                  83  ...   \n",
              "\n",
              "   power_long_shots  mentality_aggression  mentality_interceptions  \\\n",
              "0                94                    48                       40   \n",
              "1                93                    63                       29   \n",
              "2                84                    51                       36   \n",
              "3                12                    34                       19   \n",
              "4                80                    54                       41   \n",
              "\n",
              "   mentality_positioning  mentality_vision  mentality_penalties  \\\n",
              "0                     94                94                   75   \n",
              "1                     95                82                   85   \n",
              "2                     87                90                   90   \n",
              "3                     11                65                   11   \n",
              "4                     87                89                   88   \n",
              "\n",
              "   mentality_composure  defending_marking  defending_standing_tackle  \\\n",
              "0                   96                 33                         37   \n",
              "1                   95                 28                         32   \n",
              "2                   94                 27                         26   \n",
              "3                   68                 27                         12   \n",
              "4                   91                 34                         27   \n",
              "\n",
              "   defending_sliding_tackle  \n",
              "0                        26  \n",
              "1                        24  \n",
              "2                        29  \n",
              "3                        18  \n",
              "4                        22  \n",
              "\n",
              "[5 rows x 30 columns]"
            ],
            "text/html": [
              "\n",
              "  <div id=\"df-f6cb5e56-f204-4036-9507-13a7fcdd3726\" class=\"colab-df-container\">\n",
              "    <div>\n",
              "<style scoped>\n",
              "    .dataframe tbody tr th:only-of-type {\n",
              "        vertical-align: middle;\n",
              "    }\n",
              "\n",
              "    .dataframe tbody tr th {\n",
              "        vertical-align: top;\n",
              "    }\n",
              "\n",
              "    .dataframe thead th {\n",
              "        text-align: right;\n",
              "    }\n",
              "</style>\n",
              "<table border=\"1\" class=\"dataframe\">\n",
              "  <thead>\n",
              "    <tr style=\"text-align: right;\">\n",
              "      <th></th>\n",
              "      <th>wage_eur</th>\n",
              "      <th>attacking_crossing</th>\n",
              "      <th>attacking_finishing</th>\n",
              "      <th>attacking_heading_accuracy</th>\n",
              "      <th>attacking_short_passing</th>\n",
              "      <th>attacking_volleys</th>\n",
              "      <th>skill_dribbling</th>\n",
              "      <th>skill_curve</th>\n",
              "      <th>skill_fk_accuracy</th>\n",
              "      <th>skill_long_passing</th>\n",
              "      <th>...</th>\n",
              "      <th>power_long_shots</th>\n",
              "      <th>mentality_aggression</th>\n",
              "      <th>mentality_interceptions</th>\n",
              "      <th>mentality_positioning</th>\n",
              "      <th>mentality_vision</th>\n",
              "      <th>mentality_penalties</th>\n",
              "      <th>mentality_composure</th>\n",
              "      <th>defending_marking</th>\n",
              "      <th>defending_standing_tackle</th>\n",
              "      <th>defending_sliding_tackle</th>\n",
              "    </tr>\n",
              "  </thead>\n",
              "  <tbody>\n",
              "    <tr>\n",
              "      <th>0</th>\n",
              "      <td>565000</td>\n",
              "      <td>88</td>\n",
              "      <td>95</td>\n",
              "      <td>70</td>\n",
              "      <td>92</td>\n",
              "      <td>88</td>\n",
              "      <td>97</td>\n",
              "      <td>93</td>\n",
              "      <td>94</td>\n",
              "      <td>92</td>\n",
              "      <td>...</td>\n",
              "      <td>94</td>\n",
              "      <td>48</td>\n",
              "      <td>40</td>\n",
              "      <td>94</td>\n",
              "      <td>94</td>\n",
              "      <td>75</td>\n",
              "      <td>96</td>\n",
              "      <td>33</td>\n",
              "      <td>37</td>\n",
              "      <td>26</td>\n",
              "    </tr>\n",
              "    <tr>\n",
              "      <th>1</th>\n",
              "      <td>405000</td>\n",
              "      <td>84</td>\n",
              "      <td>94</td>\n",
              "      <td>89</td>\n",
              "      <td>83</td>\n",
              "      <td>87</td>\n",
              "      <td>89</td>\n",
              "      <td>81</td>\n",
              "      <td>76</td>\n",
              "      <td>77</td>\n",
              "      <td>...</td>\n",
              "      <td>93</td>\n",
              "      <td>63</td>\n",
              "      <td>29</td>\n",
              "      <td>95</td>\n",
              "      <td>82</td>\n",
              "      <td>85</td>\n",
              "      <td>95</td>\n",
              "      <td>28</td>\n",
              "      <td>32</td>\n",
              "      <td>24</td>\n",
              "    </tr>\n",
              "    <tr>\n",
              "      <th>2</th>\n",
              "      <td>290000</td>\n",
              "      <td>87</td>\n",
              "      <td>87</td>\n",
              "      <td>62</td>\n",
              "      <td>87</td>\n",
              "      <td>87</td>\n",
              "      <td>96</td>\n",
              "      <td>88</td>\n",
              "      <td>87</td>\n",
              "      <td>81</td>\n",
              "      <td>...</td>\n",
              "      <td>84</td>\n",
              "      <td>51</td>\n",
              "      <td>36</td>\n",
              "      <td>87</td>\n",
              "      <td>90</td>\n",
              "      <td>90</td>\n",
              "      <td>94</td>\n",
              "      <td>27</td>\n",
              "      <td>26</td>\n",
              "      <td>29</td>\n",
              "    </tr>\n",
              "    <tr>\n",
              "      <th>3</th>\n",
              "      <td>125000</td>\n",
              "      <td>13</td>\n",
              "      <td>11</td>\n",
              "      <td>15</td>\n",
              "      <td>43</td>\n",
              "      <td>13</td>\n",
              "      <td>12</td>\n",
              "      <td>13</td>\n",
              "      <td>14</td>\n",
              "      <td>40</td>\n",
              "      <td>...</td>\n",
              "      <td>12</td>\n",
              "      <td>34</td>\n",
              "      <td>19</td>\n",
              "      <td>11</td>\n",
              "      <td>65</td>\n",
              "      <td>11</td>\n",
              "      <td>68</td>\n",
              "      <td>27</td>\n",
              "      <td>12</td>\n",
              "      <td>18</td>\n",
              "    </tr>\n",
              "    <tr>\n",
              "      <th>4</th>\n",
              "      <td>470000</td>\n",
              "      <td>81</td>\n",
              "      <td>84</td>\n",
              "      <td>61</td>\n",
              "      <td>89</td>\n",
              "      <td>83</td>\n",
              "      <td>95</td>\n",
              "      <td>83</td>\n",
              "      <td>79</td>\n",
              "      <td>83</td>\n",
              "      <td>...</td>\n",
              "      <td>80</td>\n",
              "      <td>54</td>\n",
              "      <td>41</td>\n",
              "      <td>87</td>\n",
              "      <td>89</td>\n",
              "      <td>88</td>\n",
              "      <td>91</td>\n",
              "      <td>34</td>\n",
              "      <td>27</td>\n",
              "      <td>22</td>\n",
              "    </tr>\n",
              "  </tbody>\n",
              "</table>\n",
              "<p>5 rows × 30 columns</p>\n",
              "</div>\n",
              "    <div class=\"colab-df-buttons\">\n",
              "\n",
              "  <div class=\"colab-df-container\">\n",
              "    <button class=\"colab-df-convert\" onclick=\"convertToInteractive('df-f6cb5e56-f204-4036-9507-13a7fcdd3726')\"\n",
              "            title=\"Convert this dataframe to an interactive table.\"\n",
              "            style=\"display:none;\">\n",
              "\n",
              "  <svg xmlns=\"http://www.w3.org/2000/svg\" height=\"24px\" viewBox=\"0 -960 960 960\">\n",
              "    <path d=\"M120-120v-720h720v720H120Zm60-500h600v-160H180v160Zm220 220h160v-160H400v160Zm0 220h160v-160H400v160ZM180-400h160v-160H180v160Zm440 0h160v-160H620v160ZM180-180h160v-160H180v160Zm440 0h160v-160H620v160Z\"/>\n",
              "  </svg>\n",
              "    </button>\n",
              "\n",
              "  <style>\n",
              "    .colab-df-container {\n",
              "      display:flex;\n",
              "      gap: 12px;\n",
              "    }\n",
              "\n",
              "    .colab-df-convert {\n",
              "      background-color: #E8F0FE;\n",
              "      border: none;\n",
              "      border-radius: 50%;\n",
              "      cursor: pointer;\n",
              "      display: none;\n",
              "      fill: #1967D2;\n",
              "      height: 32px;\n",
              "      padding: 0 0 0 0;\n",
              "      width: 32px;\n",
              "    }\n",
              "\n",
              "    .colab-df-convert:hover {\n",
              "      background-color: #E2EBFA;\n",
              "      box-shadow: 0px 1px 2px rgba(60, 64, 67, 0.3), 0px 1px 3px 1px rgba(60, 64, 67, 0.15);\n",
              "      fill: #174EA6;\n",
              "    }\n",
              "\n",
              "    .colab-df-buttons div {\n",
              "      margin-bottom: 4px;\n",
              "    }\n",
              "\n",
              "    [theme=dark] .colab-df-convert {\n",
              "      background-color: #3B4455;\n",
              "      fill: #D2E3FC;\n",
              "    }\n",
              "\n",
              "    [theme=dark] .colab-df-convert:hover {\n",
              "      background-color: #434B5C;\n",
              "      box-shadow: 0px 1px 3px 1px rgba(0, 0, 0, 0.15);\n",
              "      filter: drop-shadow(0px 1px 2px rgba(0, 0, 0, 0.3));\n",
              "      fill: #FFFFFF;\n",
              "    }\n",
              "  </style>\n",
              "\n",
              "    <script>\n",
              "      const buttonEl =\n",
              "        document.querySelector('#df-f6cb5e56-f204-4036-9507-13a7fcdd3726 button.colab-df-convert');\n",
              "      buttonEl.style.display =\n",
              "        google.colab.kernel.accessAllowed ? 'block' : 'none';\n",
              "\n",
              "      async function convertToInteractive(key) {\n",
              "        const element = document.querySelector('#df-f6cb5e56-f204-4036-9507-13a7fcdd3726');\n",
              "        const dataTable =\n",
              "          await google.colab.kernel.invokeFunction('convertToInteractive',\n",
              "                                                    [key], {});\n",
              "        if (!dataTable) return;\n",
              "\n",
              "        const docLinkHtml = 'Like what you see? Visit the ' +\n",
              "          '<a target=\"_blank\" href=https://colab.research.google.com/notebooks/data_table.ipynb>data table notebook</a>'\n",
              "          + ' to learn more about interactive tables.';\n",
              "        element.innerHTML = '';\n",
              "        dataTable['output_type'] = 'display_data';\n",
              "        await google.colab.output.renderOutput(dataTable, element);\n",
              "        const docLink = document.createElement('div');\n",
              "        docLink.innerHTML = docLinkHtml;\n",
              "        element.appendChild(docLink);\n",
              "      }\n",
              "    </script>\n",
              "  </div>\n",
              "\n",
              "\n",
              "<div id=\"df-86fdca9b-46ec-4f9f-a3b6-1c5aa5e182d9\">\n",
              "  <button class=\"colab-df-quickchart\" onclick=\"quickchart('df-86fdca9b-46ec-4f9f-a3b6-1c5aa5e182d9')\"\n",
              "            title=\"Suggest charts\"\n",
              "            style=\"display:none;\">\n",
              "\n",
              "<svg xmlns=\"http://www.w3.org/2000/svg\" height=\"24px\"viewBox=\"0 0 24 24\"\n",
              "     width=\"24px\">\n",
              "    <g>\n",
              "        <path d=\"M19 3H5c-1.1 0-2 .9-2 2v14c0 1.1.9 2 2 2h14c1.1 0 2-.9 2-2V5c0-1.1-.9-2-2-2zM9 17H7v-7h2v7zm4 0h-2V7h2v10zm4 0h-2v-4h2v4z\"/>\n",
              "    </g>\n",
              "</svg>\n",
              "  </button>\n",
              "\n",
              "<style>\n",
              "  .colab-df-quickchart {\n",
              "      --bg-color: #E8F0FE;\n",
              "      --fill-color: #1967D2;\n",
              "      --hover-bg-color: #E2EBFA;\n",
              "      --hover-fill-color: #174EA6;\n",
              "      --disabled-fill-color: #AAA;\n",
              "      --disabled-bg-color: #DDD;\n",
              "  }\n",
              "\n",
              "  [theme=dark] .colab-df-quickchart {\n",
              "      --bg-color: #3B4455;\n",
              "      --fill-color: #D2E3FC;\n",
              "      --hover-bg-color: #434B5C;\n",
              "      --hover-fill-color: #FFFFFF;\n",
              "      --disabled-bg-color: #3B4455;\n",
              "      --disabled-fill-color: #666;\n",
              "  }\n",
              "\n",
              "  .colab-df-quickchart {\n",
              "    background-color: var(--bg-color);\n",
              "    border: none;\n",
              "    border-radius: 50%;\n",
              "    cursor: pointer;\n",
              "    display: none;\n",
              "    fill: var(--fill-color);\n",
              "    height: 32px;\n",
              "    padding: 0;\n",
              "    width: 32px;\n",
              "  }\n",
              "\n",
              "  .colab-df-quickchart:hover {\n",
              "    background-color: var(--hover-bg-color);\n",
              "    box-shadow: 0 1px 2px rgba(60, 64, 67, 0.3), 0 1px 3px 1px rgba(60, 64, 67, 0.15);\n",
              "    fill: var(--button-hover-fill-color);\n",
              "  }\n",
              "\n",
              "  .colab-df-quickchart-complete:disabled,\n",
              "  .colab-df-quickchart-complete:disabled:hover {\n",
              "    background-color: var(--disabled-bg-color);\n",
              "    fill: var(--disabled-fill-color);\n",
              "    box-shadow: none;\n",
              "  }\n",
              "\n",
              "  .colab-df-spinner {\n",
              "    border: 2px solid var(--fill-color);\n",
              "    border-color: transparent;\n",
              "    border-bottom-color: var(--fill-color);\n",
              "    animation:\n",
              "      spin 1s steps(1) infinite;\n",
              "  }\n",
              "\n",
              "  @keyframes spin {\n",
              "    0% {\n",
              "      border-color: transparent;\n",
              "      border-bottom-color: var(--fill-color);\n",
              "      border-left-color: var(--fill-color);\n",
              "    }\n",
              "    20% {\n",
              "      border-color: transparent;\n",
              "      border-left-color: var(--fill-color);\n",
              "      border-top-color: var(--fill-color);\n",
              "    }\n",
              "    30% {\n",
              "      border-color: transparent;\n",
              "      border-left-color: var(--fill-color);\n",
              "      border-top-color: var(--fill-color);\n",
              "      border-right-color: var(--fill-color);\n",
              "    }\n",
              "    40% {\n",
              "      border-color: transparent;\n",
              "      border-right-color: var(--fill-color);\n",
              "      border-top-color: var(--fill-color);\n",
              "    }\n",
              "    60% {\n",
              "      border-color: transparent;\n",
              "      border-right-color: var(--fill-color);\n",
              "    }\n",
              "    80% {\n",
              "      border-color: transparent;\n",
              "      border-right-color: var(--fill-color);\n",
              "      border-bottom-color: var(--fill-color);\n",
              "    }\n",
              "    90% {\n",
              "      border-color: transparent;\n",
              "      border-bottom-color: var(--fill-color);\n",
              "    }\n",
              "  }\n",
              "</style>\n",
              "\n",
              "  <script>\n",
              "    async function quickchart(key) {\n",
              "      const quickchartButtonEl =\n",
              "        document.querySelector('#' + key + ' button');\n",
              "      quickchartButtonEl.disabled = true;  // To prevent multiple clicks.\n",
              "      quickchartButtonEl.classList.add('colab-df-spinner');\n",
              "      try {\n",
              "        const charts = await google.colab.kernel.invokeFunction(\n",
              "            'suggestCharts', [key], {});\n",
              "      } catch (error) {\n",
              "        console.error('Error during call to suggestCharts:', error);\n",
              "      }\n",
              "      quickchartButtonEl.classList.remove('colab-df-spinner');\n",
              "      quickchartButtonEl.classList.add('colab-df-quickchart-complete');\n",
              "    }\n",
              "    (() => {\n",
              "      let quickchartButtonEl =\n",
              "        document.querySelector('#df-86fdca9b-46ec-4f9f-a3b6-1c5aa5e182d9 button');\n",
              "      quickchartButtonEl.style.display =\n",
              "        google.colab.kernel.accessAllowed ? 'block' : 'none';\n",
              "    })();\n",
              "  </script>\n",
              "</div>\n",
              "\n",
              "    </div>\n",
              "  </div>\n"
            ],
            "application/vnd.google.colaboratory.intrinsic+json": {
              "type": "dataframe",
              "variable_name": "player_data"
            }
          },
          "metadata": {},
          "execution_count": 3
        }
      ]
    },
    {
      "cell_type": "markdown",
      "source": [
        "#Inspect player data"
      ],
      "metadata": {
        "id": "N7dq3ma-SzZc"
      }
    },
    {
      "cell_type": "code",
      "source": [
        "print(player_data.info())\n",
        "print(\"Target variable description\")\n",
        "player_data[\"wage_eur\"].describe()"
      ],
      "metadata": {
        "colab": {
          "base_uri": "https://localhost:8080/"
        },
        "id": "4vmNyDEcSxp3",
        "outputId": "ec58b8b8-b8e3-4eb6-a7f9-1acca5ca2771"
      },
      "execution_count": null,
      "outputs": [
        {
          "output_type": "stream",
          "name": "stdout",
          "text": [
            "<class 'pandas.core.frame.DataFrame'>\n",
            "RangeIndex: 18278 entries, 0 to 18277\n",
            "Data columns (total 30 columns):\n",
            " #   Column                      Non-Null Count  Dtype\n",
            "---  ------                      --------------  -----\n",
            " 0   wage_eur                    18278 non-null  int64\n",
            " 1   attacking_crossing          18278 non-null  int64\n",
            " 2   attacking_finishing         18278 non-null  int64\n",
            " 3   attacking_heading_accuracy  18278 non-null  int64\n",
            " 4   attacking_short_passing     18278 non-null  int64\n",
            " 5   attacking_volleys           18278 non-null  int64\n",
            " 6   skill_dribbling             18278 non-null  int64\n",
            " 7   skill_curve                 18278 non-null  int64\n",
            " 8   skill_fk_accuracy           18278 non-null  int64\n",
            " 9   skill_long_passing          18278 non-null  int64\n",
            " 10  skill_ball_control          18278 non-null  int64\n",
            " 11  movement_acceleration       18278 non-null  int64\n",
            " 12  movement_sprint_speed       18278 non-null  int64\n",
            " 13  movement_agility            18278 non-null  int64\n",
            " 14  movement_reactions          18278 non-null  int64\n",
            " 15  movement_balance            18278 non-null  int64\n",
            " 16  power_shot_power            18278 non-null  int64\n",
            " 17  power_jumping               18278 non-null  int64\n",
            " 18  power_stamina               18278 non-null  int64\n",
            " 19  power_strength              18278 non-null  int64\n",
            " 20  power_long_shots            18278 non-null  int64\n",
            " 21  mentality_aggression        18278 non-null  int64\n",
            " 22  mentality_interceptions     18278 non-null  int64\n",
            " 23  mentality_positioning       18278 non-null  int64\n",
            " 24  mentality_vision            18278 non-null  int64\n",
            " 25  mentality_penalties         18278 non-null  int64\n",
            " 26  mentality_composure         18278 non-null  int64\n",
            " 27  defending_marking           18278 non-null  int64\n",
            " 28  defending_standing_tackle   18278 non-null  int64\n",
            " 29  defending_sliding_tackle    18278 non-null  int64\n",
            "dtypes: int64(30)\n",
            "memory usage: 4.2 MB\n",
            "None\n",
            "Target variable description\n"
          ]
        },
        {
          "output_type": "execute_result",
          "data": {
            "text/plain": [
              "count     18278.000000\n",
              "mean       9456.942773\n",
              "std       21351.714095\n",
              "min           0.000000\n",
              "25%        1000.000000\n",
              "50%        3000.000000\n",
              "75%        8000.000000\n",
              "max      565000.000000\n",
              "Name: wage_eur, dtype: float64"
            ]
          },
          "metadata": {},
          "execution_count": 4
        }
      ]
    },
    {
      "cell_type": "markdown",
      "source": [
        "#Drop null values"
      ],
      "metadata": {
        "id": "MYBDnVOE3U2p"
      }
    },
    {
      "cell_type": "code",
      "source": [
        "player_data = player_data.dropna()"
      ],
      "metadata": {
        "id": "DvL0kErMzEWi"
      },
      "execution_count": null,
      "outputs": []
    },
    {
      "cell_type": "markdown",
      "source": [
        "#Split test and training data"
      ],
      "metadata": {
        "id": "WD3_olhM3RRd"
      }
    },
    {
      "cell_type": "code",
      "source": [
        "target = 'wage_eur'\n",
        "features = [col for col in player_data.columns if col != target]\n",
        "X = player_data[features]\n",
        "y = player_data[target]\n",
        "X_train, X_test, y_train, y_test = train_test_split(X, y, test_size=0.2, random_state=42)"
      ],
      "metadata": {
        "id": "5H-3Yha_8NoV"
      },
      "execution_count": null,
      "outputs": []
    },
    {
      "cell_type": "markdown",
      "source": [
        "#Function to evaluate model"
      ],
      "metadata": {
        "id": "sBZXn_PYA855"
      }
    },
    {
      "cell_type": "code",
      "source": [
        "def evaluate_model(model, X_train, y_train, X_test, y_test):\n",
        "    model.fit(X_train, y_train)\n",
        "    y_pred_train = model.predict(X_train)\n",
        "    y_pred_test = model.predict(X_test)\n",
        "    mse_train = mean_squared_error(y_train, y_pred_train)\n",
        "    mse_test = mean_squared_error(y_test, y_pred_test)\n",
        "    r2_train = r2_score(y_train, y_pred_train)\n",
        "    r2_test = r2_score(y_test, y_pred_test)\n",
        "    return mse_train, mse_test, r2_train, r2_test"
      ],
      "metadata": {
        "id": "3v6iarJ08RKR"
      },
      "execution_count": null,
      "outputs": []
    },
    {
      "cell_type": "markdown",
      "source": [
        "#Evaluate if removing outliers improves performance"
      ],
      "metadata": {
        "id": "7-EUdFIzA_-q"
      }
    },
    {
      "cell_type": "code",
      "source": [
        "model = LinearRegression()"
      ],
      "metadata": {
        "id": "HlO5zTg3BCC3"
      },
      "execution_count": null,
      "outputs": []
    },
    {
      "cell_type": "code",
      "source": [
        "# 1. Without Outlier Removal\n",
        "mse_train_no_outliers, mse_test_no_outliers, r2_train_no_outliers, r2_test_no_outliers = evaluate_model(model, X_train, y_train, X_test, y_test)\n",
        "\n",
        "# 2. With Outlier Removal using z-score method\n",
        "# Calculate z-scores for each feature\n",
        "z_scores = np.abs(stats.zscore(X_train))\n",
        "\n",
        "# Set threshold for z-score\n",
        "threshold = 3\n",
        "\n",
        "# Remove rows where any feature has a z-score greater than threshold\n",
        "X_train_no_outliers = X_train[(z_scores < threshold).all(axis=1)]\n",
        "y_train_no_outliers = y_train[X_train.index.isin(X_train_no_outliers.index)]\n",
        "\n",
        "# Evaluate the model with outlier removal\n",
        "mse_train_outliers_removed, mse_test_outliers_removed, r2_train_outliers_removed, r2_test_outliers_removed = evaluate_model(model, X_train_no_outliers, y_train_no_outliers, X_test, y_test)\n",
        "\n",
        "# Print the results\n",
        "print(\"Without Outlier Removal:\")\n",
        "print(f'Training MSE: {mse_train_no_outliers:,.2f}')\n",
        "print(f'Testing MSE: {mse_test_no_outliers:,.2f}')\n",
        "print(f'Training R^2: {r2_train_no_outliers:.2f}')\n",
        "print(f'Testing R^2: {r2_test_no_outliers:.2f}')\n",
        "\n",
        "print(\"\\nWith Outlier Removal:\")\n",
        "print(f'Training MSE: {mse_train_outliers_removed:,.2f}')\n",
        "print(f'Testing MSE: {mse_test_outliers_removed:,.2f}')\n",
        "print(f'Training R^2: {r2_train_outliers_removed:.2f}')\n",
        "print(f'Testing R^2: {r2_test_outliers_removed:.2f}')"
      ],
      "metadata": {
        "colab": {
          "base_uri": "https://localhost:8080/"
        },
        "id": "dhquNTxwBOIk",
        "outputId": "408b0d16-64de-42ef-a1d3-1ce8184928cc"
      },
      "execution_count": null,
      "outputs": [
        {
          "output_type": "stream",
          "name": "stdout",
          "text": [
            "Without Outlier Removal:\n",
            "Training MSE: 317,548,366.00\n",
            "Testing MSE: 366,133,025.94\n",
            "Training R^2: 0.29\n",
            "Testing R^2: 0.27\n",
            "\n",
            "With Outlier Removal:\n",
            "Training MSE: 261,864,718.44\n",
            "Testing MSE: 367,227,837.34\n",
            "Training R^2: 0.31\n",
            "Testing R^2: 0.26\n"
          ]
        }
      ]
    },
    {
      "cell_type": "markdown",
      "source": [
        "Analysis: The removal of outliers provides improved performance according to the models fit to the data when training. However, the model was not as sucessful when encountering unseen data as indicated by the reduced performance in both testing metrics."
      ],
      "metadata": {
        "id": "bMRmnEf1CWa7"
      }
    },
    {
      "cell_type": "markdown",
      "source": [
        "#Evaluate benefit of scaling"
      ],
      "metadata": {
        "id": "Q2qzgvjxKN7X"
      }
    },
    {
      "cell_type": "markdown",
      "source": [
        "Train model without scaling"
      ],
      "metadata": {
        "id": "nGm6fD4PKWZV"
      }
    },
    {
      "cell_type": "code",
      "source": [
        "model.fit(X_train, y_train)\n",
        "y_pred_train = model.predict(X_train)\n",
        "y_pred_test = model.predict(X_test)\n",
        "mse_train_no_scaling = mean_squared_error(y_train, y_pred_train)\n",
        "mse_test_no_scaling = mean_squared_error(y_test, y_pred_test)\n",
        "r2_train_no_scaling = r2_score(y_train, y_pred_train)\n",
        "r2_test_no_scaling = r2_score(y_test, y_pred_test)\n",
        "\n",
        "# Apply Standard Scaling\n",
        "scaler = StandardScaler()\n",
        "X_train_scaled = scaler.fit_transform(X_train)\n",
        "X_test_scaled = scaler.transform(X_test)"
      ],
      "metadata": {
        "id": "o94qBbj1C0gf"
      },
      "execution_count": null,
      "outputs": []
    },
    {
      "cell_type": "markdown",
      "source": [
        "Train model with scaling"
      ],
      "metadata": {
        "id": "brFzLDZ0KZ3J"
      }
    },
    {
      "cell_type": "code",
      "source": [
        "model.fit(X_train_scaled, y_train)\n",
        "y_pred_train_scaled = model.predict(X_train_scaled)\n",
        "y_pred_test_scaled = model.predict(X_test_scaled)\n",
        "mse_train_scaling = mean_squared_error(y_train, y_pred_train_scaled)\n",
        "mse_test_scaling = mean_squared_error(y_test, y_pred_test_scaled)\n",
        "r2_train_scaling = r2_score(y_train, y_pred_train_scaled)\n",
        "r2_test_scaling = r2_score(y_test, y_pred_test_scaled)"
      ],
      "metadata": {
        "id": "1iFQjaWOKbBt"
      },
      "execution_count": null,
      "outputs": []
    },
    {
      "cell_type": "markdown",
      "source": [
        "Print results"
      ],
      "metadata": {
        "id": "6cv8V3HGKfRV"
      }
    },
    {
      "cell_type": "code",
      "source": [
        "print(\"Without Scaling:\")\n",
        "print(f'Training MSE: {mse_train_no_scaling}')\n",
        "print(f'Testing MSE: {mse_test_no_scaling}')\n",
        "print(f'Training R^2: {r2_train_no_scaling}')\n",
        "print(f'Testing R^2: {r2_test_no_scaling}')\n",
        "\n",
        "print(\"\\nWith Scaling:\")\n",
        "print(f'Training MSE: {mse_train_scaling}')\n",
        "print(f'Testing MSE: {mse_test_scaling}')\n",
        "print(f'Training R^2: {r2_train_scaling}')\n",
        "print(f'Testing R^2: {r2_test_scaling}')"
      ],
      "metadata": {
        "colab": {
          "base_uri": "https://localhost:8080/"
        },
        "id": "GGoD0GehKga_",
        "outputId": "e3eb8f53-be46-4fb6-e2d4-7d4107526fa6"
      },
      "execution_count": null,
      "outputs": [
        {
          "output_type": "stream",
          "name": "stdout",
          "text": [
            "Without Scaling:\n",
            "Training MSE: 317548365.9968781\n",
            "Testing MSE: 366133025.9415515\n",
            "Training R^2: 0.2864691944127301\n",
            "Testing R^2: 0.26655371158502883\n",
            "\n",
            "With Scaling:\n",
            "Training MSE: 317548365.9968781\n",
            "Testing MSE: 366133025.9415515\n",
            "Training R^2: 0.2864691944127301\n",
            "Testing R^2: 0.26655371158502883\n"
          ]
        }
      ]
    },
    {
      "cell_type": "markdown",
      "source": [
        "Analysis: The results do not vary with or without scaling."
      ],
      "metadata": {
        "id": "zG9OSKDnKiDn"
      }
    },
    {
      "cell_type": "markdown",
      "source": [
        "#Various test size trials for linear regression model"
      ],
      "metadata": {
        "id": "-2uOPuu1MN9v"
      }
    },
    {
      "cell_type": "code",
      "source": [
        "# Function to train and evaluate the model\n",
        "def evaluate_model(X, y, test_size):\n",
        "    # Split the data\n",
        "    X_train, X_test, y_train, y_test = train_test_split(X, y, test_size=test_size, random_state=42)\n",
        "\n",
        "    # Train the model\n",
        "    model = LinearRegression()\n",
        "    model.fit(X_train, y_train)\n",
        "\n",
        "    # Predict on training and testing data\n",
        "    y_train_pred = model.predict(X_train)\n",
        "    y_test_pred = model.predict(X_test)\n",
        "\n",
        "    # Calculate metrics\n",
        "    mse_train = mean_squared_error(y_train, y_train_pred)\n",
        "    mse_test = mean_squared_error(y_test, y_test_pred)\n",
        "    r2_train = r2_score(y_train, y_train_pred)\n",
        "    r2_test = r2_score(y_test, y_test_pred)\n",
        "\n",
        "    # Print results\n",
        "    print(f\"Test Size: {test_size*100}%\")\n",
        "    print(f\"Training MSE: {mse_train:,.2f}\")\n",
        "    print(f\"Testing MSE: {mse_test:,.2f}\")\n",
        "    print(f\"Training R^2: {r2_train:.2f}\")\n",
        "    print(f\"Testing R^2: {r2_test:.2f}\")\n",
        "    print(\"-\" * 30)\n",
        "\n",
        "# List of test sizes to compare\n",
        "test_sizes = [0.1, 0.2, 0.3, 0.4]\n",
        "\n",
        "# Compare different test sizes\n",
        "for test_size in test_sizes:\n",
        "    evaluate_model(X, y, test_size)"
      ],
      "metadata": {
        "id": "DKPO08ZOKl-A",
        "colab": {
          "base_uri": "https://localhost:8080/",
          "height": 183
        },
        "outputId": "36a7eb36-0ae6-4fa3-b3d5-dcde950d416a"
      },
      "execution_count": null,
      "outputs": [
        {
          "output_type": "error",
          "ename": "NameError",
          "evalue": "name 'X' is not defined",
          "traceback": [
            "\u001b[0;31m---------------------------------------------------------------------------\u001b[0m",
            "\u001b[0;31mNameError\u001b[0m                                 Traceback (most recent call last)",
            "\u001b[0;32m<ipython-input-5-8097ec5a5948>\u001b[0m in \u001b[0;36m<cell line: 32>\u001b[0;34m()\u001b[0m\n\u001b[1;32m     31\u001b[0m \u001b[0;31m# Compare different test sizes\u001b[0m\u001b[0;34m\u001b[0m\u001b[0;34m\u001b[0m\u001b[0m\n\u001b[1;32m     32\u001b[0m \u001b[0;32mfor\u001b[0m \u001b[0mtest_size\u001b[0m \u001b[0;32min\u001b[0m \u001b[0mtest_sizes\u001b[0m\u001b[0;34m:\u001b[0m\u001b[0;34m\u001b[0m\u001b[0;34m\u001b[0m\u001b[0m\n\u001b[0;32m---> 33\u001b[0;31m     \u001b[0mevaluate_model\u001b[0m\u001b[0;34m(\u001b[0m\u001b[0mX\u001b[0m\u001b[0;34m,\u001b[0m \u001b[0my\u001b[0m\u001b[0;34m,\u001b[0m \u001b[0mtest_size\u001b[0m\u001b[0;34m)\u001b[0m\u001b[0;34m\u001b[0m\u001b[0;34m\u001b[0m\u001b[0m\n\u001b[0m",
            "\u001b[0;31mNameError\u001b[0m: name 'X' is not defined"
          ]
        }
      ]
    },
    {
      "cell_type": "markdown",
      "source": [
        "Analysis: 10% test size did not do well with the training data, but performed well with the testing data. This result indicates that model was adaptable with new data after having more data input."
      ],
      "metadata": {
        "id": "NUsNEN3mMZif"
      }
    },
    {
      "cell_type": "markdown",
      "source": [
        "#Compare KNN and Linear regression models"
      ],
      "metadata": {
        "id": "gc_JWt3lPvtR"
      }
    },
    {
      "cell_type": "code",
      "source": [
        "# Function to train and evaluate models\n",
        "def evaluate_models(X, y, test_size=0.2):\n",
        "    # Split the data\n",
        "    X_train, X_test, y_train, y_test = train_test_split(X, y, test_size=test_size, random_state=42)\n",
        "\n",
        "    # Initialize models\n",
        "    lr_model = LinearRegression()\n",
        "    knn_model = KNeighborsRegressor(n_neighbors=5)\n",
        "\n",
        "    # Train models\n",
        "    lr_model.fit(X_train, y_train)\n",
        "    knn_model.fit(X_train, y_train)\n",
        "\n",
        "    # Predict on training and testing data\n",
        "    y_train_pred_lr = lr_model.predict(X_train)\n",
        "    y_test_pred_lr = lr_model.predict(X_test)\n",
        "    y_train_pred_knn = knn_model.predict(X_train)\n",
        "    y_test_pred_knn = knn_model.predict(X_test)\n",
        "\n",
        "    # Calculate metrics\n",
        "    mse_train_lr = mean_squared_error(y_train, y_train_pred_lr)\n",
        "    mse_test_lr = mean_squared_error(y_test, y_test_pred_lr)\n",
        "    r2_train_lr = r2_score(y_train, y_train_pred_lr)\n",
        "    r2_test_lr = r2_score(y_test, y_test_pred_lr)\n",
        "\n",
        "    mse_train_knn = mean_squared_error(y_train, y_train_pred_knn)\n",
        "    mse_test_knn = mean_squared_error(y_test, y_test_pred_knn)\n",
        "    r2_train_knn = r2_score(y_train, y_train_pred_knn)\n",
        "    r2_test_knn = r2_score(y_test, y_test_pred_knn)\n",
        "\n",
        "    # Print results\n",
        "    print(\"Linear Regression:\")\n",
        "    print(f\"Training MSE: {mse_train_lr:,.2f}\")\n",
        "    print(f\"Testing MSE: {mse_test_lr:,.2f}\")\n",
        "    print(f\"Training R^2: {r2_train_lr:.2f}\")\n",
        "    print(f\"Testing R^2: {r2_test_lr:.2f}\")\n",
        "    print(\"-\" * 30)\n",
        "\n",
        "    print(\"K-Nearest Neighbors Regression:\")\n",
        "    print(f\"Training MSE: {mse_train_knn:,.2f}\")\n",
        "    print(f\"Testing MSE: {mse_test_knn:,.2f}\")\n",
        "    print(f\"Training R^2: {r2_train_knn:.2f}\")\n",
        "    print(f\"Testing R^2: {r2_test_knn:.2f}\")\n",
        "    print(\"-\" * 30)\n",
        "\n",
        "# Evaluate models with a 20% test size\n",
        "evaluate_models(X, y, test_size=0.2)"
      ],
      "metadata": {
        "id": "JfWKhEc4NM_1",
        "colab": {
          "base_uri": "https://localhost:8080/",
          "height": 183
        },
        "outputId": "787e9b2a-8020-4238-9c61-db680025d5d4"
      },
      "execution_count": null,
      "outputs": [
        {
          "output_type": "error",
          "ename": "NameError",
          "evalue": "name 'X' is not defined",
          "traceback": [
            "\u001b[0;31m---------------------------------------------------------------------------\u001b[0m",
            "\u001b[0;31mNameError\u001b[0m                                 Traceback (most recent call last)",
            "\u001b[0;32m<ipython-input-4-33f5eb62dfee>\u001b[0m in \u001b[0;36m<cell line: 47>\u001b[0;34m()\u001b[0m\n\u001b[1;32m     45\u001b[0m \u001b[0;34m\u001b[0m\u001b[0m\n\u001b[1;32m     46\u001b[0m \u001b[0;31m# Evaluate models with a 20% test size\u001b[0m\u001b[0;34m\u001b[0m\u001b[0;34m\u001b[0m\u001b[0m\n\u001b[0;32m---> 47\u001b[0;31m \u001b[0mevaluate_models\u001b[0m\u001b[0;34m(\u001b[0m\u001b[0mX\u001b[0m\u001b[0;34m,\u001b[0m \u001b[0my\u001b[0m\u001b[0;34m,\u001b[0m \u001b[0mtest_size\u001b[0m\u001b[0;34m=\u001b[0m\u001b[0;36m0.2\u001b[0m\u001b[0;34m)\u001b[0m\u001b[0;34m\u001b[0m\u001b[0;34m\u001b[0m\u001b[0m\n\u001b[0m",
            "\u001b[0;31mNameError\u001b[0m: name 'X' is not defined"
          ]
        }
      ]
    },
    {
      "cell_type": "markdown",
      "source": [
        "Analysis: The KNN regression model shows significantly improved training and testing results. KNN regression has better MSE results meaning it fits the data better, as well as better R2 results meaning it can better understand the variance in the data."
      ],
      "metadata": {
        "id": "WTtqqsZ-QDm9"
      }
    },
    {
      "cell_type": "markdown",
      "source": [
        "#compare different k values"
      ],
      "metadata": {
        "id": "3ETGcDFff06v"
      }
    },
    {
      "cell_type": "code",
      "source": [
        "# Function to evaluate KNN with different k values\n",
        "def evaluate_knn(X_train, X_test, y_train, y_test, k_values):\n",
        "    for k in k_values:\n",
        "        # Initialize and train the KNN model\n",
        "        knn_model = KNeighborsRegressor(n_neighbors=k)\n",
        "        knn_model.fit(X_train, y_train)\n",
        "\n",
        "        # Predict on training and testing data\n",
        "        y_train_pred = knn_model.predict(X_train)\n",
        "        y_test_pred = knn_model.predict(X_test)\n",
        "\n",
        "        # Calculate metrics\n",
        "        mse_train = mean_squared_error(y_train, y_train_pred)\n",
        "        mse_test = mean_squared_error(y_test, y_test_pred)\n",
        "        r2_train = r2_score(y_train, y_train_pred)\n",
        "        r2_test = r2_score(y_test, y_test_pred)\n",
        "\n",
        "        # Print results\n",
        "        print(f\"KNN Regression with k={k}:\")\n",
        "        print(f\"Training MSE: {mse_train:,.2f}\")\n",
        "        print(f\"Testing MSE: {mse_test:,.2f}\")\n",
        "        print(f\"Training R^2: {r2_train:.2f}\")\n",
        "        print(f\"Testing R^2: {r2_test:.2f}\")\n",
        "        print(\"-\" * 30)\n",
        "\n",
        "# Evaluate KNN models with k values of 3, 5, and 7\n",
        "k_values = [3, 5, 7]\n",
        "evaluate_knn(X_train_scaled, X_test_scaled, y_train, y_test, k_values)"
      ],
      "metadata": {
        "colab": {
          "base_uri": "https://localhost:8080/",
          "height": 183
        },
        "id": "4qvOL3uagewa",
        "outputId": "3b220eb2-a657-48b0-a3ac-35ed1e366e62"
      },
      "execution_count": null,
      "outputs": [
        {
          "output_type": "error",
          "ename": "NameError",
          "evalue": "name 'X_train_scaled' is not defined",
          "traceback": [
            "\u001b[0;31m---------------------------------------------------------------------------\u001b[0m",
            "\u001b[0;31mNameError\u001b[0m                                 Traceback (most recent call last)",
            "\u001b[0;32m<ipython-input-3-c5ee5672127d>\u001b[0m in \u001b[0;36m<cell line: 28>\u001b[0;34m()\u001b[0m\n\u001b[1;32m     26\u001b[0m \u001b[0;31m# Evaluate KNN models with k values of 3, 5, and 7\u001b[0m\u001b[0;34m\u001b[0m\u001b[0;34m\u001b[0m\u001b[0m\n\u001b[1;32m     27\u001b[0m \u001b[0mk_values\u001b[0m \u001b[0;34m=\u001b[0m \u001b[0;34m[\u001b[0m\u001b[0;36m3\u001b[0m\u001b[0;34m,\u001b[0m \u001b[0;36m5\u001b[0m\u001b[0;34m,\u001b[0m \u001b[0;36m7\u001b[0m\u001b[0;34m]\u001b[0m\u001b[0;34m\u001b[0m\u001b[0;34m\u001b[0m\u001b[0m\n\u001b[0;32m---> 28\u001b[0;31m \u001b[0mevaluate_knn\u001b[0m\u001b[0;34m(\u001b[0m\u001b[0mX_train_scaled\u001b[0m\u001b[0;34m,\u001b[0m \u001b[0mX_test_scaled\u001b[0m\u001b[0;34m,\u001b[0m \u001b[0my_train\u001b[0m\u001b[0;34m,\u001b[0m \u001b[0my_test\u001b[0m\u001b[0;34m,\u001b[0m \u001b[0mk_values\u001b[0m\u001b[0;34m)\u001b[0m\u001b[0;34m\u001b[0m\u001b[0;34m\u001b[0m\u001b[0m\n\u001b[0m",
            "\u001b[0;31mNameError\u001b[0m: name 'X_train_scaled' is not defined"
          ]
        }
      ]
    },
    {
      "cell_type": "markdown",
      "source": [
        "Analysis: k=7 has the lowest testing MSE and highest testing R2 which means it has the best results when it comes to predicting new values. However, it has the worst MSE and R2 when it comes to the training data, meaning it may be less reliable."
      ],
      "metadata": {
        "id": "4hG3AiiHgvOp"
      }
    },
    {
      "cell_type": "markdown",
      "source": [
        "#Assignment Questions"
      ],
      "metadata": {
        "id": "8QWSsS1TUDcI"
      }
    },
    {
      "cell_type": "markdown",
      "source": [
        "**Explanations of process**\n",
        "\n",
        "•\tImport libraries\n",
        "\n",
        "•\tLoad data, inspect and preprocess – Inspect data to get a sense of its shape and makeup. Preprocessing consisted of ensuring no null values and removing outliers, scaling was tested but this made no difference to the results.\n",
        "\n",
        "•\tSplit data into training and testing sets.\n",
        "\n",
        "•\tCompare different regression models.\n",
        "\n",
        "•\tEvaluate results using MSE and R2.\n",
        "\n",
        "**What metric/value/quality did you use to evaluate your model? Why did you choose this?**\n",
        "\n",
        "We used MSE and R2 as they are easily attainable and interpretable.\n",
        "\n",
        "**What did you do to improve your model? Why did you choose this? Was there a notable improvement?**\n",
        "\n",
        "To improve our model, we tested multiple different sizes for linear regression and k values for KNN regression. By testing multiple values, we were able to identify which values offered the best data to better understand the nature of our model. There was a notable improvement in terms of interpretation.\n",
        "\n",
        "**What did you do to prepare the data prior to modelling? Why?**\n",
        "\n",
        "First, we inspected the data to get an idea of how it was structured and then tried scaling, which brought the datapoints into a common scale. However, doing this had no significant changes in result.\n",
        "\n",
        "Next, we tried removing outliers that could affect the models by excluding datapoints that were too large or small which could indicate they were less “in tune” with the metrics in our dataset. However, this did not end up improving our test results, indicating the models performed better when they had access to these outlying datapoints.\n"
      ],
      "metadata": {
        "id": "mzWNaPq5UcpO"
      }
    },
    {
      "cell_type": "markdown",
      "source": [
        "**Sources:**\n",
        "\n",
        "Used Chatgpt with the following prompts\n",
        "\n",
        "\"My dataframe has many columns and they have long names is\n",
        "their a faster way you put all of them except my target variable into the \"features\" area?\"\n",
        "\n",
        "\"How can I evaluate whether scaling has improved results\"\n",
        "\n",
        "\"after scaling the data when I want to perform linear regression on it do I need to use a different variable instead of X_train?\"\n",
        "\n",
        "\"How do I reduce outliers in my dataframe and print the results\"\n",
        "\n",
        "\"How can I compare the effectiveness of linear regression and KNN models?\"\n",
        "\n",
        "\"How do I compare different test sizes for Linear regression?\"\n",
        "\n",
        "\"How do I compare different k values for KNN?\"\n",
        "\n",
        "\n"
      ],
      "metadata": {
        "id": "JRLgJJVu5Hv3"
      }
    },
    {
      "cell_type": "code",
      "source": [],
      "metadata": {
        "id": "0JErBaJkigYE"
      },
      "execution_count": null,
      "outputs": []
    }
  ]
}